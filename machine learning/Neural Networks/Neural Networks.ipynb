{
 "cells": [
  {
   "cell_type": "code",
   "execution_count": 1,
   "metadata": {},
   "outputs": [
    {
     "name": "stdout",
     "output_type": "stream",
     "text": [
      "imported numpy as np\n",
      "imported pandas as pd\n",
      "imported seaborn as sns\n",
      "imported matplotlib.pyplot as plt\n",
      "%matplotlib inline\n"
     ]
    },
    {
     "data": {
      "text/html": [
       "<style>.MathJax_Display {text-align: left !important;}\n",
       "   .rendered_html table, .rendered_html th, .rendered_html tr, .rendered_html td {\n",
       "              border: 1px  black solid !important;\n",
       "              color: black !important;}\n",
       "            </style>"
      ],
      "text/plain": [
       "<IPython.core.display.HTML object>"
      ]
     },
     "execution_count": 1,
     "metadata": {},
     "output_type": "execute_result"
    }
   ],
   "source": [
    "import sys\n",
    "sys.path.append(r'C:\\Users\\Волочков\\mlopen')\n",
    "from ml_lib.jupyter import often_used_libs,jupyter_style\n",
    "np,pd,plt,sns=often_used_libs()\n",
    "jupyter_style()"
   ]
  },
  {
   "cell_type": "markdown",
   "metadata": {},
   "source": [
    "![nn](../../img/simple_neural_net.png)\n",
    "In neural net visuals, circles represent neurons and lines represent synapses. Synapses have a really simple job, they take a value from their input, multiply it by a specific weight, and output the result. Neurons are a little more complicated. Their job is to add together the outputs of all their synapses, and apply an activation function. Certain activation functions allow neural nets to model complex non-linear patterns, that simpler models may miss. For our neural net, we’ll use sigmoid activation functions.\n",
    "<img src='../../img/simple_neural_net.png' width=200 height=200 />\n",
    "\n",
    "|Code Symbol | Math Symbol | Definition | Dimensions\n",
    "    | :-: | :-: | :-: | :-: |\n",
    "    |X|$$X$$|Input Data, each row in an example| (numExamples, inputLayerSize)|\n",
    "    |y |$$y$$|target data|(numExamples, outputLayerSize)|\n",
    "    |W1 | $$W^{(1)}$$ | Layer 1 weights | (inputLayerSize, hiddenLayerSize) |\n",
    "    |W2 | $$W^{(2)}$$ | Layer 2 weights | (hiddenLayerSize, outputLayerSize) |\n",
    "    |z2 | $$z^{(2)}$$ | Layer 2 activation | (numExamples, hiddenLayerSize) |\n",
    "    |a2 | $$a^{(2)}$$ | Layer 2 activity | (numExamples, hiddenLayerSize) |\n",
    "    |z3 | $$z^{(3)}$$ | Layer 3 activation | (numExamples, outputLayerSize) |\n",
    "    |J | $$J$$ | Cost | (1, outputLayerSize) |\n",
    "|dJdz3 | $$\\frac{\\partial J}{\\partial z^{(3)} } = \\delta^{(3)}$$ | Partial derivative of cost with respect to $z^{(3)}$ | (numExamples,outputLayerSize)|\n",
    "    |dJdW2|$$\\frac{\\partial J}{\\partial W^{(2)}}$$|Partial derivative of cost with respect to $W^{(2)}$|(hiddenLayerSize, outputLayerSize)|\n",
    "    |dz3dz2|$$\\frac{\\partial z^{(3)}}{\\partial z^{(2)}}$$|Partial derivative of $z^{(3)}$ with respect to $z^{(2)}$|(numExamples, hiddenLayerSize)|\n",
    "    |dJdW1|$$\\frac{\\partial J}{\\partial W^{(1)}}$$|Partial derivative of cost with respect to $W^{(1)}$|(inputLayerSize, hiddenLayerSize)|\n",
    "    |delta2|$$\\delta^{(2)}$$|Backpropagating Error 2|(numExamples,hiddenLayerSize)|\n",
    "    |delta3|$$\\delta^{(3)}$$|Backpropagating Error 1|(numExamples,outputLayerSize)|\n",
    "\n",
    "Each input value, or element in matrix X, needs to be multiplied by a corresponding weight and then added together with all the other results for each neuron. This is a complex operation, but if we take the three outputs we're looking for as a single row of a matrix, and place all our individual weights into a matrix of weights, we can create the exact behavior we need by multiplying our input data matrix by our weight matrix. Using matrix multiplication allows us to pass multiple inputs through at once by simply adding rows to the matrix X. From here on out, we'll refer to these matrics as X, W one, and z two, where z two the activity of our second layer. Notice that each entry in z is a sum of weighted inputs to each hidden neuron. Z is of size 3 by 3, one row for each example, and one column for each hidden unit.\n",
    "    \n",
    "We now have our first official formula, $z^{(2)} = XW^{(1)}$. Matrix notation is really nice here, becuase it allows us to express the complex underlying process in a single line!"
   ]
  },
  {
   "cell_type": "code",
   "execution_count": 2,
   "metadata": {},
   "outputs": [
    {
     "data": {
      "image/png": "[encoded data removed]",
      "text/plain": [
       "<matplotlib.figure.Figure at 0x1fb26c02400>"
      ]
     },
     "metadata": {},
     "output_type": "display_data"
    }
   ],
   "source": [
    "#Apply sigmoid activation function to scalar, vector, or matrix\n",
    "sigmoid=lambda z:1/(1+np.exp(-z))\n",
    "\n",
    "testInput = np.arange(-6,6,0.01)\n",
    "plt.plot(testInput, sigmoid(testInput), linewidth= 2)\n",
    "plt.grid(1)"
   ]
  },
  {
   "cell_type": "code",
   "execution_count": 3,
   "metadata": {},
   "outputs": [
    {
     "data": {
      "text/plain": [
       "array([ 0.26894142,  0.5       ,  0.73105858])"
      ]
     },
     "execution_count": 3,
     "metadata": {},
     "output_type": "execute_result"
    }
   ],
   "source": [
    "sigmoid(np.array([-1,0,1]))"
   ]
  },
  {
   "cell_type": "markdown",
   "metadata": {},
   "source": [
    " We now have our second formula for forward propagation, using f to denote our activation function, we can write that a two, our second layer activity, is equal to f of z two. a two will be a matrix of the same size as z two, 3 by 3\n",
    " \n",
    " $$\n",
    "    a^{(2)} = f(z^{(2)}) \n",
    "  $$\n",
    "  \n",
    "  To finish forward propagation we need to propagate a two all the way to the output, yhat. We've already done the heavy lifting in the previous layer, so all we have to do now is multiply a two by our senond layer weights W2 and apply one more activation funcion. W2 will be of size 3x1, one weight for each synapse. Multiplying a2, a 3 by 3, by W2, a 3 by 1 results in a 3 by 1 matrix z three, the activity or our third layer. z3 has three activity values, one for each example. Last but not least, we'll apply our activation function to z three yielding our official estimate of your test score, yHat\n",
    "  \n",
    "$$\n",
    "    \\hat{y} = f(z^{(3)}) \n",
    "    $$\n",
    "    \n",
    "We need to implement our forward propagation formulas in python. First we'll initialize our weight matrices in our init method. For starting values, we'll use random numbers.\n",
    "We'll implement forward propagation in our forward method, using numpy's built in dot method for matrix multiplication and our own sigmoid method    "
   ]
  },
  {
   "cell_type": "code",
   "execution_count": 21,
   "metadata": {
    "collapsed": true
   },
   "outputs": [],
   "source": [
    "class Neural_Network(object):\n",
    "    def __init__(self):        \n",
    "        #Define Hyperparameters\n",
    "        self.inputLayerSize = 2\n",
    "        self.outputLayerSize = 1\n",
    "        self.hiddenLayerSize = 3\n",
    "        \n",
    "        #Weights (parameters)\n",
    "        self.W1 = np.random.randn(self.inputLayerSize, self.hiddenLayerSize)\n",
    "        self.W2 = np.random.randn(self.hiddenLayerSize, self.outputLayerSize)\n",
    "        \n",
    "    def forward(self, X):\n",
    "        #Propagate inputs though network\n",
    "        self.z2 = np.dot(X, self.W1)\n",
    "        self.a2 = self.sigmoid(self.z2)\n",
    "        self.z3 = np.dot(self.a2, self.W2)\n",
    "        yHat = self.sigmoid(self.z3) \n",
    "        return yHat\n",
    "        \n",
    "    def sigmoid(self, z):\n",
    "        #Apply sigmoid activation function to scalar, vector, or matrix\n",
    "        return 1/(1+np.exp(-z))"
   ]
  },
  {
   "cell_type": "markdown",
   "metadata": {},
   "source": [
    "Lets try to predict student's test score if we now number of hours sleeping and studying before test"
   ]
  },
  {
   "cell_type": "code",
   "execution_count": 22,
   "metadata": {
    "collapsed": true
   },
   "outputs": [],
   "source": [
    "# X = (hours sleeping, hours studying), y = Score on test\n",
    "X = np.array(([3,5], [5,1], [10,2]), dtype=float)\n",
    "y = np.array(([0.75], [0.82], [0.93]), dtype=float)\n",
    "NN=Neural_Network()\n",
    "y_hat=NN.forward(X)"
   ]
  },
  {
   "cell_type": "code",
   "execution_count": 23,
   "metadata": {},
   "outputs": [
    {
     "data": {
      "image/png": "[encoded data removed]",
      "text/plain": [
       "<matplotlib.figure.Figure at 0x1fb2a844d68>"
      ]
     },
     "metadata": {},
     "output_type": "display_data"
    }
   ],
   "source": [
    "#Compare estimate, yHat, to actually score\n",
    "plt.bar([0,1,2], y, width = 0.35, alpha=0.8)\n",
    "plt.bar([0.35,1.35,2.35],y_hat, width = 0.35, color='r', alpha=0.8)\n",
    "plt.grid(1)\n",
    "plt.legend(['y', 'yHat']);"
   ]
  },
  {
   "cell_type": "markdown",
   "metadata": {},
   "source": [
    "Right now our predictions are pretty inaccurate. To improve our model, we first need to quantify exactly how wrong our predictions are. We'll do this with a cost function. A cost function allows us to express exactly how wrong or \"costly\" our models is, given our examples.\n",
    "\n",
    "One way to compute an overall cost is to take each error value, square it, and add these values together. Multiplying by one half will make things simpler down the road. Now that we have a cost, or job is to minimize it. When someone says they’re training a network, what they really mean is that they're minimizing a cost function.\n",
    "$$ J = \\sum \\frac{1}{2}(y-\\hat{y})^2 $$\n",
    "\n",
    "OUR cost is a function of two things, our examples, and the weights on our synapses. We don't have much control of our data, so we'll minimize our cost by changing the weights.\n",
    "\n",
    "Conceptually, this is pretty simple concept. We have a collection of 9 individual weights, and we're saying that there is some combination of w's that will make our cost, J, as small as possible. When I first saw this problem in machine learning, I thought, I'll just try ALL THE WEIGHTS UNTIL I FIND THE BEST ONE! After all I have a computer!\n",
    "\n",
    "Enter the CURSE OF DIMENSIONALITY. Here's the problem. Let's pretend for a second that we only have 1 weight, instead of 9. To find the ideal value of our weight that will minimize our cost, we need to try a bunch of values for W, let's say we test 1000 values. That doesn't seem so bad, after all, my computer is pretty fast."
   ]
  },
  {
   "cell_type": "markdown",
   "metadata": {
    "collapsed": true
   },
   "source": [
    "## Gradient descent\n",
    "\n",
    "And since we have one big equation that uniquely determines our cost, J, from X, y, W1, and W2, we can use our good friend calculus to find what we're looking for. We want to know \"which way is downhill\", that is, what is the rate of change of J with respect to W, also known as the derivative. And in this case, since we’re just considering one weight at a time, the partial derivative.\n",
    "\n",
    "\n",
    "We can derive an expression for dJdW, that will give us the rate of change of J with respect to W, for any value of W! If dJdW is positive, then the cost function is going uphill. If dJdW is negative the cost function is going downhill.\n",
    "Now we can really speed things up. Since we know in which direction the cost decreases, we can save all that time we would have spent searching in the wrong direction. We can save even more computational time by iteratively taking steps downhill and stopping when the cost stops getting smaller.\n",
    "\n",
    "\n",
    "This method is known as gradient descent, and although it may not seem so impressive in one dimension, it is capable of incredible speedups in higher dimensions. In fact, in our final video, we’ll show that what would have taken 10^27 function evaluations with our brute force method will take less than 100 evaluations with gradient descent. Gradient descent allows us to find needles in very very very large haystacks\n",
    "\n",
    "\n",
    "Now before we celebrate too much here, there is a restriction. What if our cost function doesn't always go in the same direction? What if it goes up, then back down? The mathematical name for this is non-convex, and it could really throw off our gradient descent algorithm by getting it stuck in a local minima instead of our ideal global minima. One of the reasons we chose our cost function to be the sum of squared errors was to exploit the convex nature of quadratic equations.\n",
    "We know that the graph of y equals x squared is a nice convex parabola and it turns out that higher dimensional versions are too!\n",
    "\n",
    "\n",
    "Another piece of the puzzle here is that depending on how we use our data, it might not matter if or cost function is convex or not. If we use our examples one at a time instead of all at once, sometimes it won't matter if our cost function is convex, we will still find a good solution. This is called stochastic gradient descent.\n",
    "$$z^{(2)}=XW^{(1)}$$\n",
    "$$a^{(2)}=f(z^{(2)})$$\n",
    "$$z^{(3)}=a^{(2)}W^{(2)}$$\n",
    "$$\\hat{y} = f(z^{(3)}) $$\n",
    "$$ J = \\sum \\frac{1}{2}(y-\\hat{y})^2 $$"
   ]
  },
  {
   "cell_type": "markdown",
   "metadata": {
    "collapsed": true
   },
   "source": [
    "We need to calculate :$\\frac{\\partial J}{\\partial W}$\n",
    "\n",
    "$$\n",
    "W^{(1)}=\n",
    "\\begin{bmatrix}\n",
    "    W_{11}^{(1)}       & W_{12}^{(1)} & W_{13}^{(1)} \\\\\n",
    "    W_{21}^{(1)}      & W_{22}^{(1)} & W_{23}^{(1)} \n",
    "\\end{bmatrix},\n",
    "\\frac{\\partial J}{\\partial W^{(1)}}=\n",
    "\\begin{bmatrix}\n",
    "    \\frac{\\partial J}{\\partial W_{11}^{(1)}}  & \\frac{\\partial J}{\\partial W_{12}^{(1)}} & \\frac{\\partial J}{\\partial W_{13}^{(1)}} \\\\\n",
    "        \\frac{\\partial J}{\\partial W_{21}^{(1)}} & \\frac{\\partial J}{\\partial W_{22}^{(1)}} & \\frac{\\partial J}{\\partial W_{23}^{(1)}} \n",
    "\\end{bmatrix}\n",
    "$$\n",
    "\n",
    "\n",
    "$$W^{(2)}=\n",
    "\\begin{bmatrix}\n",
    "    W_{11}^{(2)}    \\\\\n",
    "    W_{12}^{(2)}   \\\\  \n",
    "    W_{13}^{(2)}     \n",
    "\\end{bmatrix},\n",
    "\\frac{\\partial J}{\\partial W^{(2)}}=\n",
    "\\begin{bmatrix}\n",
    "   \\frac{\\partial J}{\\partial W_{11}^{(2)}}    \\\\\n",
    "    \\frac{\\partial J}{\\partial W_{12}^{(2)}}   \\\\  \n",
    "   \\frac{\\partial J}{\\partial W_{13}^{(2)}}     \n",
    "\\end{bmatrix}\n",
    "$$"
   ]
  },
  {
   "cell_type": "markdown",
   "metadata": {
    "collapsed": true
   },
   "source": [
    "\n",
    "$$\\frac{\\partial J}{\\partial W^{(2)}}= \\sum -(y-\\hat{y})\\frac{\\partial \\hat{y}}{\\partial W^{(2)}}= \\sum -(y-\\hat{y}) f^{'}(z^{(3)})  \\frac{\\partial z^{(3)}}{\\partial W^{(2)}}=\\sum -(y-\\hat{y}) f^{'}(z^{(3)}) a^{(2)}  $$"
   ]
  },
  {
   "cell_type": "markdown",
   "metadata": {},
   "source": [
    "Let's consider $-(y-\\hat{y}) f^{'}(z^{(3)})$\n",
    "\n",
    "$$\\begin{bmatrix}\n",
    "   -y_1+\\hat{y}_1   \\\\\n",
    "   -y_2+\\hat{y}_2   \\\\\n",
    "   -y_3+\\hat{y} _3    \n",
    "\\end{bmatrix}\n",
    "\\begin{bmatrix}\n",
    "   f^{'}(z_1^{(3)}) \\\\\n",
    "    f^{'}(z_2^{(3)}) \\\\\n",
    "    f^{'}(z_3^{(3)}) \n",
    "\\end{bmatrix}=\n",
    "\\begin{bmatrix}\n",
    "   \\delta_1^{(3)} \\\\\n",
    "    \\delta_2^{(3)} \\\\\n",
    "    \\delta_3^{(3)}\n",
    "\\end{bmatrix}=\\delta^{(3)} \\text {   -back propagated error}\n",
    "$$\n",
    "\n",
    "$$ a^{(2)}=\n",
    "\\begin{bmatrix}\n",
    "    a_{11}^{(2)}       & a_{12}^{(2)} & a_{13}^{(2)} \\\\\n",
    "    a_{21}^{(2)}       & a_{22}^{(2)} & a_{23}^{(2)} \\\\\n",
    "    a_{31}^{(2)}       & a_{32}^{(2)} & a_{33}^{(2)}\n",
    "\\end{bmatrix}\n",
    "$$"
   ]
  },
  {
   "cell_type": "markdown",
   "metadata": {},
   "source": [
    "to multiply $\\delta^{(3)}$ and  $ a^{(2)} $ we need to transpose matrix  $ a^{(2)} $ [Scalar-by-matrix](https://en.wikipedia.org/wiki/Matrix_calculus#Scalar-by-matrix)\n",
    "\n",
    "$$\\frac{\\partial J}{\\partial W^{(2)}}=\n",
    "\\begin{bmatrix}\n",
    "   \\delta_1^{(3)} \\\\\n",
    "    \\delta_2^{(3)} \\\\\n",
    "    \\delta_3^{(3)}\n",
    "\\end{bmatrix}\n",
    "\\begin{bmatrix}\n",
    "    a_{11}^{(2)}       & a_{12}^{(2)} & a_{13}^{(2)} \\\\\n",
    "    a_{21}^{(2)}       & a_{22}^{(2)} & a_{23}^{(2)} \\\\\n",
    "    a_{31}^{(2)}       & a_{32}^{(2)} & a_{33}^{(2)}\n",
    "\\end{bmatrix}\n",
    "$$\n",
    "\n",
    "after transposing:\n",
    "$$\\frac{\\partial J}{\\partial W^{(2)}}=\n",
    "\\begin{bmatrix}\n",
    "    a_{11}^{(2)}       & a_{21}^{(2)} & a_{31}^{(2)} \\\\\n",
    "    a_{12}^{(2)}       & a_{22}^{(2)} & a_{32}^{(2)} \\\\\n",
    "    a_{13}^{(2)}       & a_{23}^{(2)} & a_{33}^{(2)}\n",
    "\\end{bmatrix}\n",
    "\\begin{bmatrix}\n",
    "   \\delta_1^{(3)} \\\\\n",
    "    \\delta_2^{(3)} \\\\\n",
    "    \\delta_3^{(3)}\n",
    "\\end{bmatrix}\n",
    "$$"
   ]
  },
  {
   "cell_type": "markdown",
   "metadata": {},
   "source": [
    "#### sum up\n",
    "$$\\frac{\\partial J}{\\partial W^{(2)}}=(a^{(2)})^T \\delta ^{(3)}$$\n",
    "$$\\delta ^{(3)}= -(y-\\hat{y}) f^{'}(z^{(3)}) $$"
   ]
  },
  {
   "cell_type": "markdown",
   "metadata": {},
   "source": [
    "$$\\frac{\\partial J}{\\partial W^{(1)}}= \\sum -(y-\\hat{y})\\frac{\\partial \\hat{y}}{\\partial W^{(1)}}= \\sum -(y-\\hat{y}) f^{'}(z^{(3)})  \\frac{\\partial z^{(3)}}{\\partial W^{(1)}}=\\sum -(y-\\hat{y}) f^{'}(z^{(3)})\\frac{\\partial a^{(2)}}{\\partial W^{(1)}}  W^{(2)}=\\sum \\delta ^{(3)} (W^{(2)})^T \\frac{\\partial a^{(2)}}{\\partial W^{(1)}} = ...  $$\n",
    "$$...=\\sum \\delta ^{(3)} (W^{(2)})^T \\frac{\\partial a^{(2)}}{\\partial W^{(1)}} =\\sum \\delta ^{(3)} (W^{(2)})^T f^{'}(z^{(2)}) \\frac{\\partial XW^{(1)}}{\\partial W^{(1)}} =\\sum \\delta ^{(3)} (W^{(2)})^T f^{'}(z^{(2)}) X^{T}$$\n",
    "$$\\delta ^{(2)}=\\sum \\delta ^{(3)} (W^{(2)})^T f^{'}(z^{(2)})$$\n",
    "So,\n",
    "$$\\frac{\\partial J}{\\partial W^{(1)}}=X^{T}\\delta ^{(2)}$$"
   ]
  },
  {
   "cell_type": "markdown",
   "metadata": {},
   "source": [
    "Now is a good time to add a new python method for the derivative of our sigmoid function, sigmoid Prime. Our derivative should be the largest where our sigmoid function is the steepest, at the value z equals zero."
   ]
  },
  {
   "cell_type": "code",
   "execution_count": 7,
   "metadata": {},
   "outputs": [
    {
     "data": {
      "image/png": "[encoded data removed]",
      "text/plain": [
       "<matplotlib.figure.Figure at 0x1fb2a844160>"
      ]
     },
     "metadata": {},
     "output_type": "display_data"
    }
   ],
   "source": [
    "def sigmoidPrime(z):\n",
    "    #Derivative of sigmoid function\n",
    "    return np.exp(-z)/((1+np.exp(-z))**2)\n",
    "\n",
    "testValues = np.arange(-5,5,0.01)\n",
    "plt.plot(testValues, sigmoid(testValues), linewidth=2)\n",
    "plt.plot(testValues, sigmoidPrime(testValues), linewidth=2)\n",
    "plt.grid(1)\n",
    "plt.legend(['sigmoid', 'sigmoidPrime']);"
   ]
  },
  {
   "cell_type": "markdown",
   "metadata": {},
   "source": [
    "Another way to think about what’s happening here is that is that each example our algorithm sees has a certain cost and a certain gradient. The gradient with respect to each example pulls our gradient descent algorithm in a certain direction. It's like every example gets a vote on which way is downhill, and when we perform batch gradient descent we just add together everyone’s vote, call it downhill, and move in that direction.\n",
    "\n",
    "\n",
    "We’ll code up our gradients in python in a new method, cost function prime. Numpy’s multiply method performs element-wise multiplication, and the dot method performs matrix multiplication."
   ]
  },
  {
   "cell_type": "code",
   "execution_count": 8,
   "metadata": {
    "collapsed": true
   },
   "outputs": [],
   "source": [
    "# Part of NN Class (won't work alone, needs to be included in class as \n",
    "# shown in below and in partFour.py):\n",
    "\n",
    "def costFunctionPrime(self, X, y):\n",
    "    #Compute derivative with respect to W and W2 for a given X and y:\n",
    "    self.yHat = self.forward(X)\n",
    "\n",
    "    delta3 = np.multiply(-(y-self.yHat), self.sigmoidPrime(self.z3))\n",
    "    dJdW2 = np.dot(self.a2.T, delta3)"
   ]
  },
  {
   "cell_type": "markdown",
   "metadata": {},
   "source": [
    "All that’s left is to code this equation up in python. What’s cool here is that if we want to make a deeper neural network, we could just stack a bunch of these operations together."
   ]
  },
  {
   "cell_type": "code",
   "execution_count": 24,
   "metadata": {
    "collapsed": true
   },
   "outputs": [],
   "source": [
    "# Whole Class with additions:\n",
    "class Neural_Network(object):\n",
    "    def __init__(self):        \n",
    "        #Define Hyperparameters\n",
    "        self.inputLayerSize = 2\n",
    "        self.outputLayerSize = 1\n",
    "        self.hiddenLayerSize = 3\n",
    "        \n",
    "        #Weights (parameters)\n",
    "        self.W1 = np.random.randn(self.inputLayerSize,self.hiddenLayerSize)\n",
    "        self.W2 = np.random.randn(self.hiddenLayerSize,self.outputLayerSize)\n",
    "        \n",
    "    def forward(self, X):\n",
    "        #Propogate inputs though network\n",
    "        self.z2 = np.dot(X, self.W1)\n",
    "        self.a2 = self.sigmoid(self.z2)\n",
    "        self.z3 = np.dot(self.a2, self.W2)\n",
    "        yHat = self.sigmoid(self.z3) \n",
    "        return yHat\n",
    "        \n",
    "    def sigmoid(self, z):\n",
    "        #Apply sigmoid activation function to scalar, vector, or matrix\n",
    "        return 1/(1+np.exp(-z))\n",
    "    \n",
    "    def sigmoidPrime(self,z):\n",
    "        #Gradient of sigmoid\n",
    "        return np.exp(-z)/((1+np.exp(-z))**2)\n",
    "    \n",
    "    def costFunction(self, X, y):\n",
    "        #Compute cost for given X,y, use weights already stored in class.\n",
    "        self.yHat = self.forward(X)\n",
    "        J = 0.5*sum((y-self.yHat)**2)\n",
    "        return J\n",
    "        \n",
    "    def costFunctionPrime(self, X, y):\n",
    "        #Compute derivative with respect to W and W2 for a given X and y:\n",
    "        self.yHat = self.forward(X)\n",
    "        \n",
    "        delta3 = np.multiply(-(y-self.yHat), self.sigmoidPrime(self.z3))\n",
    "        dJdW2 = np.dot(self.a2.T, delta3)\n",
    "        \n",
    "        delta2 = np.dot(delta3, self.W2.T)*self.sigmoidPrime(self.z2)\n",
    "        dJdW1 = np.dot(X.T, delta2)  \n",
    "        \n",
    "        return dJdW1, dJdW2"
   ]
  },
  {
   "cell_type": "markdown",
   "metadata": {},
   "source": [
    "So how should we change our W’s to decrease our cost? We can now compute dJ/dW, which tells us which way is uphill in our 9 dimensional optimization space."
   ]
  },
  {
   "cell_type": "code",
   "execution_count": 25,
   "metadata": {
    "collapsed": true
   },
   "outputs": [],
   "source": [
    "NN = Neural_Network()\n",
    "cost1 = NN.costFunction(X,y)"
   ]
  },
  {
   "cell_type": "code",
   "execution_count": 26,
   "metadata": {},
   "outputs": [
    {
     "data": {
      "text/plain": [
       "array([[ 0.08543203, -0.02136498,  0.0048385 ],\n",
       "       [ 0.05837304, -0.00538806,  0.00156592]])"
      ]
     },
     "execution_count": 26,
     "metadata": {},
     "output_type": "execute_result"
    }
   ],
   "source": [
    "dJdW1, dJdW2 = NN.costFunctionPrime(X,y)\n",
    "dJdW1"
   ]
  },
  {
   "cell_type": "code",
   "execution_count": 27,
   "metadata": {},
   "outputs": [
    {
     "data": {
      "text/plain": [
       "array([[-0.09464871],\n",
       "       [-0.00300661],\n",
       "       [-0.00066575]])"
      ]
     },
     "execution_count": 27,
     "metadata": {},
     "output_type": "execute_result"
    }
   ],
   "source": [
    "dJdW2"
   ]
  },
  {
   "cell_type": "markdown",
   "metadata": {},
   "source": [
    "If we move this way by adding a scalar times our derivative to our weights, our cost will increase, and if we do the opposite, subtract our gradient from our weights, we will move downhill and reduce our cost. This simple step downhill is the core of gradient descent and a key part of how even very sophisticated learning algorithms are trained."
   ]
  },
  {
   "cell_type": "code",
   "execution_count": 49,
   "metadata": {
    "collapsed": true
   },
   "outputs": [],
   "source": [
    "scalar = -0.001\n",
    "NN.W1 = NN.W1 + scalar*dJdW1\n",
    "NN.W2 = NN.W2 + scalar*dJdW2\n",
    "cost2 = NN.costFunction(X,y)"
   ]
  },
  {
   "cell_type": "code",
   "execution_count": 50,
   "metadata": {},
   "outputs": [
    {
     "data": {
      "text/plain": [
       "(array([ 0.25123412]), array([ 0.25164457]))"
      ]
     },
     "execution_count": 50,
     "metadata": {},
     "output_type": "execute_result"
    }
   ],
   "source": [
    "cost1, cost2"
   ]
  }
 ],
 "metadata": {
  "kernelspec": {
   "display_name": "Python 3",
   "language": "python",
   "name": "python3"
  },
  "language_info": {
   "codemirror_mode": {
    "name": "ipython",
    "version": 3
   },
   "file_extension": ".py",
   "mimetype": "text/x-python",
   "name": "python",
   "nbconvert_exporter": "python",
   "pygments_lexer": "ipython3",
   "version": "3.6.2"
  }
 },
 "nbformat": 4,
 "nbformat_minor": 2
}
