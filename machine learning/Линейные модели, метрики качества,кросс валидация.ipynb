{
 "cells": [
  {
   "cell_type": "markdown",
   "metadata": {},
   "source": [
    "\n",
    " \n",
    " Важной характеристикой матрицы, а также линейного преобразования, заданного этой матрицей, является\n",
    "спектр — набор собственных векторов и соответствующих собственных значений.\n",
    "Собственным вектором линейного преобразования $A$ называется такой ненулевой вектор  $x\\in V$ , что для\n",
    "некоторого $\\lambda\\in R$ выполняется $A x\\in \\lambda x$"
   ]
  },
  {
   "cell_type": "markdown",
   "metadata": {},
   "source": [
    "#### Методы оптимизации\n",
    "* **Метод имитации отжига** <br>\n",
    "функция anneal (англ. отжиг) в модуле optimize/позволяет оптимизировать **негладкие** функции\n",
    "библиотеки SciPy.\n",
    "* **Метод Нелдера-Мида**, он же **симплекс метод** использвуется для оптимизации функций негладких и зашумленных\n",
    "<br>Метод Нелдера-Мида является методом\n",
    "оптимизации по умолчанию в функции SciPy.optimize.minimize,особенно хорошо работает, если перед ним применить метод грубой оптимизации(например поиск по сетке)"
   ]
  },
  {
   "cell_type": "markdown",
   "metadata": {},
   "source": [
    "# Обучение на размеченных данных\n",
    "* $\\mathbb{X}$ -пространство объектов\n",
    "* $\\mathbb{Y}$ -пространство ответов\n",
    "* $x=(x^1,...,x^d)$ -признаковое описание\n",
    "* $X=(x_i,y_i)^l_{i=1}$ -обучающая выборка\n",
    "* $ a(x)$ -алгоритм ,модель\n",
    "* $ Q(a,X)$ -функционал ошибки алгоритма на выборке $X$\n",
    "* обучение:$a(x)=argmin\\,Q(a,X),a\\in A$\n",
    "\n",
    "То есть,цель обучения минимизировать функциал ошибки, подобрав соответвующий алгоритм из семейства A\n",
    "## Линейные модели\n",
    "Рассмотрим задачу о предсказании прибыли по данным продаж предыдущего месяца.<br>\n",
    "Видим, что можно провести прямую, более менее угадывающую зависимость между признаками.\n",
    "\n",
    "![linear_model](../img/linear_model.png)\n",
    "\n",
    "Но как правило признаков несколько(то есть имеем дело с многомерными выборками)<br>\n",
    "**общий вид линейной модели**:\n",
    "$$a(x)=w_o+\\sum^d_{j=1}w_jx^j$$\n",
    "$w_i$-веса модели перед соотвествующими признаками $w_0$- свободный коэффициент, он же сдвиг, он же **bias**<br>\n",
    "другой вариант записи(без сдвига):\n",
    "$$a(x)=\\sum^{d+1}_{j=1}w_jx^j=\\langle w,x \\rangle$$\n",
    "### Среднеквадратичная ошибка\n",
    "$$Q(a,X)=\\frac{1}{l}\\sum^l_{i=1}(a(x_i)-y_i)^2$$\n",
    "матричная запись:\n",
    "$$Q(a,X)=\\frac{1}{l}||Xw-y||^2$$ где $l$-число объектов,$X$-матрица признаков,$w$ -вектор весов,$y$-вектор ответов\n",
    "### Линейная регрессия\n",
    "$$ Q (w,x)=\\frac{1}{l}\\sum_{l=1}^{l} (\\langle w{,}x \\rangle-y_i)^2 \\to \\min\\limits_{w}    $$\n",
    "То есть задача найти модель, с минимальной ошибкой, то есть переходим к задаче оптимизации.<br>\n",
    "Среднеквадратичная ошибка-выпуклая(следовательно один минимум) и гладкая функция (значит можно рассчитать градиент).\n",
    "#### Градиентный спуск.\n",
    "1. инициализация вектора весов(например нулями) $w^0=0$\n",
    "2. цикл по $t=1,2,3...$ -итерации <br>\n",
    "$w^t=w^{t-1}-\\eta_t \\nabla Q(w^{t-1},X)$,если $||w^t-w^{t-1}||<\\epsilon$, то завершить<br>\n",
    "где $\\nabla Q$ -градиент,<br>$\\eta_t$ -шаг градиентного спуска(параметр)<br><br>\n",
    "То есть,обновляем вектор весов до сходимости<br>\n",
    "Функционал качества в зависимости от итерации,видим, что начиная с определенного номера выходит на ассимптоду:\n",
    "\n",
    "![quality](../img/quality.png)\n",
    "Очень важно в градиентном спуске выбрать размер шага $\\eta$:<br>\n",
    "Если взять шаг маленьким, то градиенту понадобится много итераций для достижения минимума,если взять слишком большим- начнет перескакивать точку минимума.\n",
    "\n",
    "![gradientstep](../img/gradientstep.png)\n",
    "Неплохо работает:$\\eta_t=\\frac{k}{t}$,где $k$- константа(надо подбирать)\n",
    "#### Стохастический градиентный спуск(cокращенное наименование:**SGD**)\n",
    "1. инициализация вектора весов(например нулями) $w^0=0$\n",
    "2. цикл по $t=1,2,3...$ -итерации <br>\n",
    "выбрать случайный объект $x_i$ из $X$<br>\n",
    "$w^t=w^{t-1}-\\eta_t \\nabla Q(w^{t-1},{x_i})$,если $||w^t-w^{t-1}||<\\epsilon$, то завершить<br>\n",
    "\n",
    "Таким образом,на каждом шаге уменьшаем ошибку не на всей выборке, а на случайном объекте.<br>\n",
    "Преимущества:\n",
    "* быстрее выполняется один шаг\n",
    "* не требует хранения выборки в памяти и таким образом позволяет работать с очень большими данными\n",
    "* подходит для онлайн-обучения\n",
    "### Линейная классификация\n",
    "задача бинарной классификации:$\\mathbb{Y}=\\{-1,+1\\}$<br>\n",
    "**линейный классификатор**\n",
    "$$a(x)=sign\\,\\sum^{d+1}_{j=1}w_jx^j=sign\\,\\langle w,x \\rangle$$\n",
    "\n",
    "Линейный классификатор разделяет два класса гиперплоскостью:\n",
    "\n",
    "![geomlinclass](../img/geomlinclass.png)\n",
    "расстояние от точки до гиперплоскости со знаком:<br>$\\frac{|\\langle w,x \\rangle|}{||w||}$\n",
    "\n",
    "То есть классификатор вначале измеряет расстояние от точки до гиперплоскости и далее смотрит лишь на знак.<br>\n",
    "**отступ**<br>\n",
    "* $M_i=y_i\\langle w,x_i \\rangle, y_i=\\{-1,+1\\}$ \n",
    "* $M_i>0$-классификатор дает верный ответ\n",
    "* $M_i<0$классификатор ошибается\n",
    "\n",
    "Чем дальше отступ от нуля, тем больше уверенности<br>\n",
    "**функционал качества**\n",
    "доля неправильных ответов:<br>\n",
    "$Q(a,X)=\\frac{1}{l}\\sum^l_{i=1}[a(x_i)\\not= y_i]$<br>\n",
    "доля неправильных ответов через отсутп:<br>\n",
    "$Q(a,X)=\\frac{1}{l}\\sum^l_{i=1}[M_i<0]$<br>\n",
    "\n",
    "Эта функция разрывна в нуле и из за этого ее нельзя оптимизировать градиентными методами(можно воспользоваться методами негладкой оптимизации , но они сложны в реализации и не дают гарантии сходимости к локальному оптимуму)<br>\n",
    "Поэтому будем оптимизировать любую гладкую оценку пороговой функции:$$[M<0]\\leq \\tilde{L}(M)$$\n",
    "Оценим через нее функционал ошибки:\n",
    "$$Q(a,x)\\leq \\tilde{Q}(a,X)=\\frac{1}{l}\\sum^l_{i=1}\\tilde{L}(M_i)$$\n",
    "Таким образом,мы **надеемся**,что минимизируя верхнюю оценку и минимизируем то, что она оценивает,но ,разумееется нет никаких гарантий.<br> примеры оценок:\n",
    "* логистическая $\\tilde{L}(M)=ln(1+exp(-M)$\n",
    "* экспоненициальная $\\tilde{L}(M)=exp(-M)$\n",
    "* кусочно линейная $\\tilde{L}(M)=max(0,1-M)$\n",
    "\n",
    "### Проблема переобучения\n",
    "* **недообучение**- плохое качество и на обучении и на новых данных\n",
    "* **переобучение**- хорошее качество  на обучении и плохое на новых данных ,то есть модель хорошо описывает текущие данные , но обладает плохой обобщающей способностью<br>\n",
    "\n",
    "Как выявить переобучение?:\n",
    "* отложеннаая выборка -данные , на которых не обучались\n",
    "* кросс валиадация(пояснение ниже)\n",
    "* меры сложности модели\n",
    "\n",
    "##### Регуляризация(контроль сложности модели)\n",
    "нужна для:\n",
    "* борьба со сложностью модели\n",
    "* борьба с линейностью признаков (мультиколлинеарность)\n",
    "\n",
    "Симптомом переобучения являются большие веса при коээфициентах.И поэтому будем штрафовать модель за большие веса.<br>\n",
    "**квадратичный регуляризатор** $$ ||w||_2 =\\sum_{j=1}^{d} w_{j}^2 $$\n",
    "новый функционал ошибки :\n",
    "$$Q(w,X)+ \\lambda ||w||^2 \\to \\min\\limits_{w}  $$\n",
    "То есть, мы будем стремиться получить ошибку как можно меньше , при этом стараться не сильно увеличив веса\n",
    "* чем больше $\\lambda$, тем ниже сложность модели\n",
    "* чем меньше $\\lambda$, тем выше риск переобучения\n",
    "* выбор $\\lambda$ по кросс валидации\n",
    "\n",
    "**виды регуляризаторов**<br>\n",
    "* $ ||w||_2 =\\sum_{j=1}^{d} w_{j}^2  -L_2 регуляризатор$  **ridge** (гребневый) -**частый выбор** <br>\n",
    "гладкий и выпуклый(не усложняет оптимизацию)\n",
    "\n",
    "* $ ||w||_1 =\\sum_{j=1}^{d} |w_{j}| -L_1 регуляризатор $  **lasso**\n",
    "\n",
    "$L_1$-регуляризатор:\n",
    "* Негладкий(сложнее оптимизировать)\n",
    "* Некоторые веса оказываются нулевыми(за счет этого можно отбирать признаки)\n",
    "\n",
    "##### Отложенная выборка\n",
    "* разбиваем выборку на 2 части\n",
    "* на одной обучаем алгоритм\n",
    "* на второй измеряем качество\n",
    "\n",
    "обычно берут разбиение : 70%/30% ,80%/20% \n",
    "* (+) обучаем алгоритм один раз (подходит если данных очень много)\n",
    "* (-) завим от разбиения(результат качества сильно зависит от того , как выбираем отложенную выборку)\n",
    "\n",
    "улучшение -много отложенных выборок\n",
    "\n",
    "* разбиваем выборку n раз\n",
    "* усредним получившиеся оценки и получим итоговую оценку\n",
    "\n",
    "по прежнему нет гарантии того, что каждый объект побывает в обучающей выборке.<br>\n",
    "Более системный подход- кроссвалидация.\n",
    "##### Кросс-Валидация \n",
    "* разбиваем выборку на k блоков\n",
    "* каждый блок по очереди выступает как тестовый , на остальных обучаемся\n",
    "* усредним их и получим оценку качество\n",
    "![crossval](../img/crossval.png)\n",
    "мало блоков:\n",
    "*(+) надежные оценки\n",
    "*(-) смещенные оценки\n",
    "\n",
    "много блоков:\n",
    "*(-) ненадежные оценки\n",
    "*(+) несмещенные оценки\n",
    "\n",
    "* обычно:k=3,5,10\n",
    "\n",
    "* чем больше выборка, тем меньше нужно $k$\n",
    "\n",
    "##### Совет\n",
    "* перемешивайте выборку(если не предсказываете будующее)\n",
    "### Гиперпараметры\n",
    "\n",
    "те параметры, которые нельзя настроить по обучающей выборку<br>\n",
    "примеры: параметры регуляризации, стень полинома\n",
    "\n",
    "более обще:\n",
    "* функционал ошибки\n",
    "* алгоритм\n",
    "\n",
    "схема подбора:\n",
    "* разбиваем выборку на обучающую и контроль\n",
    "* на обучающей выборке по кроссвалиации обучаем и сравниваем  алгоритм\n",
    "* проверяем на контрольной"
   ]
  },
  {
   "cell_type": "markdown",
   "metadata": {
    "collapsed": true
   },
   "source": [
    "# Метрики качества в задачах регрессии\n",
    "зачем нужны:\n",
    "\n",
    "* для задания функционала ошибки(используется при обучении)\n",
    "* для подбора гиперпараметров( используется для измерения качества на кросс валидации)\n",
    "* для оценивая итоговой модели(пригодна получившая модель для решения бизнес задачи)\n",
    "## Метрики качества в задачах регрессии\n",
    "\n",
    "* $MSE(a,X)=\\frac{1}{l}\\sum_{i=1}^l(a(x_i)-y_i)^2$ - среднеквадратичная ошибка ,легко оптизируется,но\n",
    "<br> подстраивается под выбросы(что плохо)\n",
    "*  $MAE(a,X)=\\frac{1}{l}\\sum_{i=1}^l|a(x_i)-y_i|$ -считается модуль отклонения, а не квадрат <br>штраф за выборсы ниже\n",
    "* коэффициент детерминации $$ R^2(a,X)=1-\\frac{\\sum_{i=1}^{l} (a(x_i)-y_i)^2}{\\sum_{i=1}^{l} (y_i-\\bar{y})^2} ,$$\n",
    "$ \\bar{y}=\\frac{1}{l}\\sum_{i=1}^{l} y_i $ -средний ответ\n",
    "\n",
    "-некоторая модификация среднеквадратичной ошибки<br>\n",
    "Показывает долю дисперсии, объясненной общей моделью\n",
    "* $0 \\leq R^2 \\leq 1$ для разумных моделей\n",
    "* $ R^2 =1$ идеальная модель\n",
    "* $ R^2 =0$ модель на уровне константной\n",
    "* $ R^2 < 0$ модель хуже константной\n",
    "\n",
    "\n",
    "**квантильная ошибка ** <br> используется если ошибки прогноза(перепрогноз или недопрогноз имеют разную цену\n",
    "\n",
    "$\\rho_{\\tau}(a,X)=\\frac{1}{l}\\sum_{i=1}^l ((\\tau-1)[y_i<a(x_i)]+\\tau[y_i\\geq a(x_i)])(y_i-a(x_i))$,<br>\n",
    "если $\\tau$ близко к нулю ,мы боимся перепрогноза, если $\\tau$ ,близко к 1 -боимся недопрогноза\n",
    "\n",
    "#### вероятностный смысл\n",
    "\n",
    "* **MSE** -средний ответ\n",
    "* **MAE** - медиана ответов\n",
    "* **квантильная ошибка** - $\\tau$ квантиль\n"
   ]
  },
  {
   "cell_type": "markdown",
   "metadata": {
    "collapsed": true
   },
   "source": [
    "## Метрики качества в задачах классификации\n",
    "* **доля правильных ответов(accuracy)**:<br> $$accuracy(a,X)=\\frac{1}{l}\\sum_{i=1}^{l} [a(x_i)=y_i]$$<br>проблема- несбаллансированные выборки<br> Для этого введем $q_0$ -доля объектов самого крупного класса выборки<br>\n",
    "и для разумных алгоритмов $accuracy \\in [q_0,1]$\n",
    "##### Матрица ошибок\n",
    "\n",
    "|   |  y=1 | y=-1  |  \n",
    "|---|---|---|---|---|\n",
    "| a(x)=1  | True Positive(TP)  | False Positive(FP)  |  \n",
    "|a(x)=-1   | False Negative (FN)  | True Negative (TN)  |\n",
    "\n",
    "* **точность** (насколько верно алгоритм относит объекты к первому классу) $$precision(a,X)=\\frac{TP}{TP+FP}$$\n",
    "* **Полнота**(как много истинных объектов первого класса выделяет алгоритм) $$recall(a,X)=\\frac{TP}{TP+FN}$$\n",
    "* **F мера - объедиение точности и полноты** $$F=\\frac{2*precison*recall}{precison+recall}$$ <br>**расширенная версия F меры**\n",
    "$$F_\\beta=(1+\\beta^2)*\\frac{precision+recall}{\\beta^2*precision+recall}$$ <br> если $\\beta=0.5 $ получим важнее полнота,если $\\beta=2 $ то важнее точность\n",
    "\n",
    "### Качество оценок классификатора\n",
    "\n",
    "* **PR -кривая **<br>Ось X - полнота<br>Ось Y - точность<br>точки-классификаторы при определённых порогах\n",
    "![prsq](../img/prsq.png)\n",
    "<br> Левая точка (0,0) <br> Правая точка (1,r),где **r** -доля положительных объектов <br>Для идеального классификатора проходит через (1,1)<br> **AUC-PRC** -площадь под PR-кривой\n",
    "* **POC -кривая **<br>Ось X - FalsePositiveRate$$FPR=\\frac{FP}{FP+TN}$$<br>Ось Y - TruePositiveRate $$TPR=\\frac{TP}{TP+FN}$$<br>\n",
    "![rocsq](../img/rocsq.png)\n",
    "**AUC-ROC** -площадь под ROC-кривой\n",
    "\n",
    "идеальный алгоритм даст площади AUC-PRC и AUC-ROC равными 1, худший -0.5 <br>\n",
    "Площадь под ROC кривой **не зависит** от баланса классов и обладает следующей интерпритацией:\n",
    "Площадь под ROC кривой = вероятности того, что если выбрать случайный положительный и случайный отрицательный объект из выборки,то положительный объект получит оценку принадлежности выше чем отрицательный.\n",
    "\n",
    "<br>**AUC-PRG** -выразительнее в случае дисбаланса классов"
   ]
  },
  {
   "cell_type": "markdown",
   "metadata": {},
   "source": [
    "# Примеры (python)"
   ]
  },
  {
   "cell_type": "markdown",
   "metadata": {
    "collapsed": true
   },
   "source": [
    "### Cross Validation"
   ]
  },
  {
   "cell_type": "code",
   "execution_count": 1,
   "metadata": {
    "collapsed": false
   },
   "outputs": [
    {
     "name": "stdout",
     "output_type": "stream",
     "text": [
      "Populating the interactive namespace from numpy and matplotlib\n"
     ]
    },
    {
     "name": "stderr",
     "output_type": "stream",
     "text": [
      "C:\\Users\\ilya.Volchkov\\AppData\\Local\\Continuum\\Anaconda3\\lib\\site-packages\\IPython\\core\\magics\\pylab.py:161: UserWarning: pylab import has clobbered these variables: ['pylab']\n",
      "`%matplotlib` prevents importing * from pylab and numpy\n",
      "  \"\\n`%matplotlib` prevents importing * from pylab and numpy\"\n"
     ]
    }
   ],
   "source": [
    "from sklearn import model_selection, datasets,linear_model, metrics\n",
    "import numpy as np\n",
    "import pandas as pd\n",
    "import pylab\n",
    "%pylab inline"
   ]
  },
  {
   "cell_type": "markdown",
   "metadata": {},
   "source": [
    "### Разовое разбиение данных на обучение и тест с помощью train_test_split\n",
    "на iris датасете"
   ]
  },
  {
   "cell_type": "code",
   "execution_count": 2,
   "metadata": {
    "collapsed": false
   },
   "outputs": [],
   "source": [
    "iris=datasets.load_iris()\n",
    "train_data, test_data, train_labels, test_labels = model_selection.train_test_split(iris.data, iris.target, \n",
    "                                                                                     test_size = 0.3)"
   ]
  },
  {
   "cell_type": "markdown",
   "metadata": {},
   "source": [
    "#### KFold\n",
    "важно:возвращает индексы, а не данные"
   ]
  },
  {
   "cell_type": "code",
   "execution_count": 3,
   "metadata": {
    "collapsed": false
   },
   "outputs": [
    {
     "data": {
      "text/html": [
       "<div>\n",
       "<table border=\"1\" class=\"dataframe\">\n",
       "  <thead>\n",
       "    <tr style=\"text-align: right;\">\n",
       "      <th></th>\n",
       "      <th>X</th>\n",
       "      <th>y</th>\n",
       "    </tr>\n",
       "  </thead>\n",
       "  <tbody>\n",
       "    <tr>\n",
       "      <th>0</th>\n",
       "      <td>0</td>\n",
       "      <td>0</td>\n",
       "    </tr>\n",
       "    <tr>\n",
       "      <th>1</th>\n",
       "      <td>1</td>\n",
       "      <td>0</td>\n",
       "    </tr>\n",
       "    <tr>\n",
       "      <th>2</th>\n",
       "      <td>2</td>\n",
       "      <td>0</td>\n",
       "    </tr>\n",
       "    <tr>\n",
       "      <th>3</th>\n",
       "      <td>3</td>\n",
       "      <td>0</td>\n",
       "    </tr>\n",
       "    <tr>\n",
       "      <th>4</th>\n",
       "      <td>4</td>\n",
       "      <td>0</td>\n",
       "    </tr>\n",
       "    <tr>\n",
       "      <th>5</th>\n",
       "      <td>5</td>\n",
       "      <td>1</td>\n",
       "    </tr>\n",
       "    <tr>\n",
       "      <th>6</th>\n",
       "      <td>6</td>\n",
       "      <td>1</td>\n",
       "    </tr>\n",
       "    <tr>\n",
       "      <th>7</th>\n",
       "      <td>7</td>\n",
       "      <td>1</td>\n",
       "    </tr>\n",
       "    <tr>\n",
       "      <th>8</th>\n",
       "      <td>8</td>\n",
       "      <td>1</td>\n",
       "    </tr>\n",
       "    <tr>\n",
       "      <th>9</th>\n",
       "      <td>9</td>\n",
       "      <td>1</td>\n",
       "    </tr>\n",
       "  </tbody>\n",
       "</table>\n",
       "</div>"
      ],
      "text/plain": [
       "   X  y\n",
       "0  0  0\n",
       "1  1  0\n",
       "2  2  0\n",
       "3  3  0\n",
       "4  4  0\n",
       "5  5  1\n",
       "6  6  1\n",
       "7  7  1\n",
       "8  8  1\n",
       "9  9  1"
      ]
     },
     "execution_count": 3,
     "metadata": {},
     "output_type": "execute_result"
    }
   ],
   "source": [
    "X=np.array(range(10))\n",
    "target = np.array([0] * 5 + [1] * 5)\n",
    "pd.DataFrame(list(zip(X,target)),columns=['X','y'])"
   ]
  },
  {
   "cell_type": "markdown",
   "metadata": {},
   "source": [
    "Разбиваем на k фолдов(частей)"
   ]
  },
  {
   "cell_type": "code",
   "execution_count": 4,
   "metadata": {
    "collapsed": false
   },
   "outputs": [
    {
     "name": "stdout",
     "output_type": "stream",
     "text": [
      "[0 1 3 4 5 6 7 8] [2 9]\n",
      "[0 1 2 3 5 7 8 9] [4 6]\n",
      "[1 2 4 5 6 7 8 9] [0 3]\n",
      "[0 2 3 4 5 6 8 9] [1 7]\n",
      "[0 1 2 3 4 6 7 9] [5 8]\n"
     ]
    }
   ],
   "source": [
    "for train_indices, test_indices in model_selection.KFold( n_splits = 5, shuffle = True, random_state = 1).split(X):\n",
    "    print( train_indices, test_indices)"
   ]
  },
  {
   "cell_type": "markdown",
   "metadata": {},
   "source": [
    "#### StratifiedKFold\n",
    "разбиваем на k частей , учитывая балланс классов(стараемся его сохранить)"
   ]
  },
  {
   "cell_type": "code",
   "execution_count": 5,
   "metadata": {
    "collapsed": false
   },
   "outputs": [
    {
     "name": "stdout",
     "output_type": "stream",
     "text": [
      "[0 1 3 4 6 7 8 9] [2 5]\n",
      "[1 2 3 4 5 6 8 9] [0 7]\n",
      "[0 2 3 4 5 7 8 9] [1 6]\n",
      "[0 1 2 4 5 6 7 8] [3 9]\n",
      "[0 1 2 3 5 6 7 9] [4 8]\n"
     ]
    }
   ],
   "source": [
    "# target- метки классов\n",
    "target = np.array([0] * 5 + [1] * 5)\n",
    "for train_indices, test_indices in model_selection.StratifiedKFold(n_splits=5, shuffle = True, random_state = 0).split(X,target):\n",
    "    print (train_indices, test_indices)"
   ]
  },
  {
   "cell_type": "markdown",
   "metadata": {},
   "source": [
    "#### ShuffleSplit"
   ]
  },
  {
   "cell_type": "code",
   "execution_count": 6,
   "metadata": {
    "collapsed": false
   },
   "outputs": [
    {
     "name": "stdout",
     "output_type": "stream",
     "text": [
      "[3 4 1 0 2 6 7 5] [9 8]\n",
      "[6 1 9 2 5 4 7 8] [3 0]\n",
      "[4 1 6 3 9 7 8 0] [2 5]\n",
      "[8 1 7 5 6 0 3 2] [9 4]\n",
      "[0 5 6 4 9 7 1 3] [8 2]\n",
      "[5 7 8 3 4 1 2 0] [9 6]\n",
      "[8 2 4 1 6 3 5 7] [9 0]\n",
      "[8 1 0 2 7 9 5 6] [4 3]\n",
      "[5 0 1 6 2 3 4 8] [9 7]\n",
      "[8 6 3 4 7 9 0 1] [5 2]\n"
     ]
    }
   ],
   "source": [
    "for train_indices, test_indices in model_selection.ShuffleSplit( n_splits = 10, test_size = 0.2).split(X):\n",
    "    print (train_indices, test_indices)"
   ]
  },
  {
   "cell_type": "markdown",
   "metadata": {},
   "source": [
    "#### StratifiedShuffleSplit"
   ]
  },
  {
   "cell_type": "code",
   "execution_count": 7,
   "metadata": {
    "collapsed": false
   },
   "outputs": [
    {
     "name": "stdout",
     "output_type": "stream",
     "text": [
      "[2 8 9 5 1 0 7 3] [4 6]\n",
      "[6 8 7 2 0 1 3 9] [4 5]\n",
      "[2 5 6 8 3 9 1 4] [7 0]\n",
      "[9 8 1 3 2 0 7 5] [4 6]\n"
     ]
    }
   ],
   "source": [
    "for train_indices, test_indices in model_selection.StratifiedShuffleSplit(n_splits = 4, test_size = 0.2).split(X,target):\n",
    "    print (train_indices, test_indices)"
   ]
  },
  {
   "cell_type": "markdown",
   "metadata": {},
   "source": [
    "#### Leave-One-Out"
   ]
  },
  {
   "cell_type": "code",
   "execution_count": 8,
   "metadata": {
    "collapsed": false
   },
   "outputs": [
    {
     "name": "stdout",
     "output_type": "stream",
     "text": [
      "[1 2 3 4 5 6 7 8 9] [0]\n",
      "[0 2 3 4 5 6 7 8 9] [1]\n",
      "[0 1 3 4 5 6 7 8 9] [2]\n",
      "[0 1 2 4 5 6 7 8 9] [3]\n",
      "[0 1 2 3 5 6 7 8 9] [4]\n",
      "[0 1 2 3 4 6 7 8 9] [5]\n",
      "[0 1 2 3 4 5 7 8 9] [6]\n",
      "[0 1 2 3 4 5 6 8 9] [7]\n",
      "[0 1 2 3 4 5 6 7 9] [8]\n",
      "[0 1 2 3 4 5 6 7 8] [9]\n"
     ]
    }
   ],
   "source": [
    "for train_indices, test_index in model_selection.LeaveOneOut().split(X):\n",
    "    print (train_indices, test_index)"
   ]
  },
  {
   "cell_type": "code",
   "execution_count": 9,
   "metadata": {
    "collapsed": false
   },
   "outputs": [],
   "source": [
    "blobs = datasets.make_blobs(centers = 2, cluster_std = 5.5, random_state=1)\n",
    "train_data, test_data, train_labels, test_labels = model_selection.train_test_split(blobs[0], blobs[1], \n",
    "                                                                                    test_size = 0.3,\n",
    "                                                                                    random_state = 1)"
   ]
  },
  {
   "cell_type": "markdown",
   "metadata": {},
   "source": [
    "# Задачи классификации"
   ]
  },
  {
   "cell_type": "markdown",
   "metadata": {},
   "source": [
    "#### RidgeClassifier"
   ]
  },
  {
   "cell_type": "code",
   "execution_count": 10,
   "metadata": {
    "collapsed": false
   },
   "outputs": [],
   "source": [
    "#создание объекта - классификатора\n",
    "ridge_classifier = linear_model.RidgeClassifier(random_state = 1)\n",
    "#обучение классификатора\n",
    "ridge_classifier.fit(train_data, train_labels)\n",
    "#применение обученного классификатора\n",
    "ridge_predictions = ridge_classifier.predict(test_data)"
   ]
  },
  {
   "cell_type": "code",
   "execution_count": 11,
   "metadata": {
    "collapsed": false
   },
   "outputs": [
    {
     "data": {
      "text/plain": [
       "0.8666666666666667"
      ]
     },
     "execution_count": 11,
     "metadata": {},
     "output_type": "execute_result"
    }
   ],
   "source": [
    "#оценка качества классификации\n",
    "metrics.accuracy_score(test_labels, ridge_predictions)"
   ]
  },
  {
   "cell_type": "code",
   "execution_count": 12,
   "metadata": {
    "collapsed": false
   },
   "outputs": [
    {
     "name": "stdout",
     "output_type": "stream",
     "text": [
      "[[-0.0854443  -0.07273219]]\n",
      "[-0.31250723]\n"
     ]
    }
   ],
   "source": [
    "print(ridge_classifier.coef_)\n",
    "print(ridge_classifier.intercept_ )"
   ]
  },
  {
   "cell_type": "code",
   "execution_count": 13,
   "metadata": {
    "collapsed": false
   },
   "outputs": [
    {
     "data": {
      "text/plain": [
       "array([-0.31250723])"
      ]
     },
     "execution_count": 13,
     "metadata": {},
     "output_type": "execute_result"
    }
   ],
   "source": [
    "ridge_classifier.intercept_ "
   ]
  },
  {
   "cell_type": "markdown",
   "metadata": {},
   "source": [
    "#### LogisticRegression"
   ]
  },
  {
   "cell_type": "code",
   "execution_count": 14,
   "metadata": {
    "collapsed": true
   },
   "outputs": [],
   "source": [
    "log_regressor = linear_model.LogisticRegression(random_state = 1)\n",
    "log_regressor.fit(train_data, train_labels)\n",
    "lr_predictions = log_regressor.predict(test_data)\n",
    "# выводим вероятности принадлежности к классам\n",
    "lr_proba_predictions = log_regressor.predict_proba(test_data)"
   ]
  },
  {
   "cell_type": "code",
   "execution_count": 15,
   "metadata": {
    "collapsed": false
   },
   "outputs": [
    {
     "name": "stdout",
     "output_type": "stream",
     "text": [
      "0.8\n",
      "0.866666666667\n"
     ]
    }
   ],
   "source": [
    "print (metrics.accuracy_score(test_labels, lr_predictions))\n",
    "print (metrics.accuracy_score(test_labels, ridge_predictions))"
   ]
  },
  {
   "cell_type": "markdown",
   "metadata": {},
   "source": [
    "### Оценка качества по cross-validation\n",
    "#### cross_val_score"
   ]
  },
  {
   "cell_type": "code",
   "execution_count": 16,
   "metadata": {
    "collapsed": false
   },
   "outputs": [
    {
     "name": "stdout",
     "output_type": "stream",
     "text": [
      "[ 0.8  0.9  0.9  0.9  1.   1.   0.7  0.9  0.9  0.8]\n",
      "[ 0.7  0.9  0.9  0.9  1.   1.   0.7  0.9  0.9  0.8]\n"
     ]
    }
   ],
   "source": [
    "#For integer/None inputs, if the estimator is a classifier and y is either binary or multiclass, StratifiedKFold is used. In all other cases, KFold is used.\n",
    "ridge_scoring = model_selection.cross_val_score(ridge_classifier, blobs[0], blobs[1], scoring = 'accuracy', cv = 10)\n",
    "print(ridge_scoring)\n",
    "lr_scoring = model_selection.cross_val_score(log_regressor, blobs[0], blobs[1], scoring = 'accuracy', cv = 10)\n",
    "print(lr_scoring)"
   ]
  },
  {
   "cell_type": "code",
   "execution_count": 17,
   "metadata": {
    "collapsed": false
   },
   "outputs": [
    {
     "name": "stdout",
     "output_type": "stream",
     "text": [
      "Ridge mean:0.8800000000000001, max:1.0, min:0.7, std:0.08717797887081348\n",
      "Log mean:0.8700000000000001, max:1.0, min:0.7, std:0.10049875621120892\n"
     ]
    }
   ],
   "source": [
    "print ('Ridge mean:{}, max:{}, min:{}, std:{}'.format(ridge_scoring.mean(), ridge_scoring.max(), \n",
    "                                                     ridge_scoring.min(), ridge_scoring.std()))\n",
    "print ('Log mean:{}, max:{}, min:{}, std:{}'.format(lr_scoring.mean(), lr_scoring.max(), \n",
    "                                                   lr_scoring.min(), lr_scoring.std()))"
   ]
  },
  {
   "cell_type": "markdown",
   "metadata": {},
   "source": [
    "#### cross_val_score с заданными scorer и cv_strategy"
   ]
  },
  {
   "cell_type": "code",
   "execution_count": 18,
   "metadata": {
    "collapsed": false
   },
   "outputs": [
    {
     "name": "stdout",
     "output_type": "stream",
     "text": [
      "Ridge mean:0.8500000000000001, max:0.95, min:0.75, std:0.07905694150420946\n",
      "Log mean:0.875, max:0.9, min:0.85, std:0.025000000000000022\n"
     ]
    }
   ],
   "source": [
    "scorer = metrics.make_scorer(metrics.accuracy_score)\n",
    "cv_strategy = model_selection.StratifiedShuffleSplit(n_splits = 4, test_size = 0.2)\n",
    "ridge_scoring =model_selection.cross_val_score(ridge_classifier, blobs[0], blobs[1], scoring = scorer, cv = cv_strategy)\n",
    "lr_scoring = model_selection.cross_val_score(log_regressor, blobs[0], blobs[1], scoring = scorer, cv = cv_strategy)\n",
    "print ('Ridge mean:{}, max:{}, min:{}, std:{}'.format(ridge_scoring.mean(), ridge_scoring.max(), \n",
    "                                                     ridge_scoring.min(), ridge_scoring.std()))\n",
    "print ('Log mean:{}, max:{}, min:{}, std:{}'.format(lr_scoring.mean(), lr_scoring.max(), \n",
    "                                                   lr_scoring.min(), lr_scoring.std()))"
   ]
  },
  {
   "cell_type": "markdown",
   "metadata": {},
   "source": [
    "## Метрики качества в задачах классификации"
   ]
  },
  {
   "cell_type": "markdown",
   "metadata": {},
   "source": [
    "#### accuracy"
   ]
  },
  {
   "cell_type": "code",
   "execution_count": 19,
   "metadata": {
    "collapsed": false
   },
   "outputs": [
    {
     "data": {
      "text/plain": [
       "0.8666666666666667"
      ]
     },
     "execution_count": 19,
     "metadata": {},
     "output_type": "execute_result"
    }
   ],
   "source": [
    "metrics.accuracy_score(test_labels, ridge_predictions)"
   ]
  },
  {
   "cell_type": "markdown",
   "metadata": {},
   "source": [
    "####  confusion matrix"
   ]
  },
  {
   "cell_type": "code",
   "execution_count": 20,
   "metadata": {
    "collapsed": false
   },
   "outputs": [
    {
     "data": {
      "text/plain": [
       "array([[14,  4],\n",
       "       [ 0, 12]])"
      ]
     },
     "execution_count": 20,
     "metadata": {},
     "output_type": "execute_result"
    }
   ],
   "source": [
    "metrics.confusion_matrix(test_labels, ridge_predictions)"
   ]
  },
  {
   "cell_type": "markdown",
   "metadata": {},
   "source": [
    "#### precision "
   ]
  },
  {
   "cell_type": "code",
   "execution_count": 21,
   "metadata": {
    "collapsed": false
   },
   "outputs": [
    {
     "data": {
      "text/plain": [
       "(0.75, 1.0)"
      ]
     },
     "execution_count": 21,
     "metadata": {},
     "output_type": "execute_result"
    }
   ],
   "source": [
    "metrics.precision_score(test_labels, ridge_predictions, pos_label = 1),metrics.precision_score(test_labels, ridge_predictions, pos_label = 0)"
   ]
  },
  {
   "cell_type": "markdown",
   "metadata": {},
   "source": [
    "#### recall"
   ]
  },
  {
   "cell_type": "code",
   "execution_count": 22,
   "metadata": {
    "collapsed": false
   },
   "outputs": [
    {
     "data": {
      "text/plain": [
       "(1.0, 0.77777777777777779)"
      ]
     },
     "execution_count": 22,
     "metadata": {},
     "output_type": "execute_result"
    }
   ],
   "source": [
    "metrics.recall_score(test_labels, ridge_predictions, pos_label = 1),metrics.recall_score(test_labels, ridge_predictions, pos_label = 0)"
   ]
  },
  {
   "cell_type": "markdown",
   "metadata": {},
   "source": [
    "#### f1"
   ]
  },
  {
   "cell_type": "code",
   "execution_count": 23,
   "metadata": {
    "collapsed": false
   },
   "outputs": [
    {
     "data": {
      "text/plain": [
       "(0.87500000000000011, 0.8571428571428571)"
      ]
     },
     "execution_count": 23,
     "metadata": {},
     "output_type": "execute_result"
    }
   ],
   "source": [
    "metrics.f1_score(test_labels, ridge_predictions, pos_label = 0),metrics.f1_score(test_labels, ridge_predictions, pos_label = 1)"
   ]
  },
  {
   "cell_type": "markdown",
   "metadata": {},
   "source": [
    "#### classification report"
   ]
  },
  {
   "cell_type": "code",
   "execution_count": 24,
   "metadata": {
    "collapsed": false
   },
   "outputs": [
    {
     "name": "stdout",
     "output_type": "stream",
     "text": [
      "             precision    recall  f1-score   support\n",
      "\n",
      "          0       1.00      0.78      0.88        18\n",
      "          1       0.75      1.00      0.86        12\n",
      "\n",
      "avg / total       0.90      0.87      0.87        30\n",
      "\n"
     ]
    }
   ],
   "source": [
    "print( metrics.classification_report(test_labels, ridge_predictions))"
   ]
  },
  {
   "cell_type": "markdown",
   "metadata": {},
   "source": [
    "#### ROC curve"
   ]
  },
  {
   "cell_type": "code",
   "execution_count": 25,
   "metadata": {
    "collapsed": false
   },
   "outputs": [
    {
     "data": {
      "image/png": "[encoded data removed]",
      "text/plain": [
       "<matplotlib.figure.Figure at 0xada49e8>"
      ]
     },
     "metadata": {},
     "output_type": "display_data"
    }
   ],
   "source": [
    "fpr, tpr, _ = metrics.roc_curve(test_labels, lr_proba_predictions[:,1])\n",
    "pylab.plot(fpr, tpr, label = 'linear model')\n",
    "pylab.plot([0, 1], [0, 1], '--', color = 'grey', label = 'random')\n",
    "pylab.xlim([-0.05, 1.05])\n",
    "pylab.ylim([-0.05, 1.05])\n",
    "pylab.xlabel('False Positive Rate')\n",
    "pylab.ylabel('True Positive Rate')\n",
    "pylab.title('ROC curve')\n",
    "pylab.legend(loc = \"lower right\");"
   ]
  },
  {
   "cell_type": "markdown",
   "metadata": {},
   "source": [
    "#### ROC AUC"
   ]
  },
  {
   "cell_type": "code",
   "execution_count": 26,
   "metadata": {
    "collapsed": false
   },
   "outputs": [
    {
     "name": "stdout",
     "output_type": "stream",
     "text": [
      "0.888888888889\n",
      "0.958333333333\n"
     ]
    }
   ],
   "source": [
    "print(metrics.roc_auc_score(test_labels, ridge_predictions))\n",
    "print(metrics.roc_auc_score(test_labels, lr_proba_predictions[:,1]))"
   ]
  },
  {
   "cell_type": "markdown",
   "metadata": {},
   "source": [
    "#### PR AUC"
   ]
  },
  {
   "cell_type": "code",
   "execution_count": 27,
   "metadata": {
    "collapsed": false
   },
   "outputs": [
    {
     "data": {
      "text/plain": [
       "0.875"
      ]
     },
     "execution_count": 27,
     "metadata": {},
     "output_type": "execute_result"
    }
   ],
   "source": [
    "metrics.average_precision_score(test_labels, ridge_predictions)"
   ]
  },
  {
   "cell_type": "markdown",
   "metadata": {},
   "source": [
    "#### log_loss\n",
    "чем меньше метрика, тем лучше"
   ]
  },
  {
   "cell_type": "code",
   "execution_count": 28,
   "metadata": {
    "collapsed": false
   },
   "outputs": [
    {
     "data": {
      "text/plain": [
       "0.35185364928848134"
      ]
     },
     "execution_count": 28,
     "metadata": {},
     "output_type": "execute_result"
    }
   ],
   "source": [
    "metrics.log_loss(test_labels, lr_proba_predictions[:,1])"
   ]
  },
  {
   "cell_type": "markdown",
   "metadata": {},
   "source": [
    "# Задачи регрессии"
   ]
  },
  {
   "cell_type": "code",
   "execution_count": 29,
   "metadata": {
    "collapsed": false
   },
   "outputs": [],
   "source": [
    "from matplotlib.colors import ListedColormap\n",
    "from sklearn import linear_model"
   ]
  },
  {
   "cell_type": "markdown",
   "metadata": {},
   "source": [
    "#### Генерация данных"
   ]
  },
  {
   "cell_type": "code",
   "execution_count": 30,
   "metadata": {
    "collapsed": false
   },
   "outputs": [
    {
     "data": {
      "image/png": "[encoded data removed]",
      "text/plain": [
       "<matplotlib.figure.Figure at 0xae1acf8>"
      ]
     },
     "metadata": {},
     "output_type": "display_data"
    }
   ],
   "source": [
    "data, target, coef = datasets.make_regression(n_features = 2, n_informative = 1, n_targets = 1, \n",
    "                                              noise = 5., coef = True, random_state = 2)\n",
    "pylab.scatter(list(map(lambda x:x[0], data)), target, color = 'r')\n",
    "pylab.scatter(list(map(lambda x:x[1], data)), target, color = 'b');"
   ]
  },
  {
   "cell_type": "code",
   "execution_count": 31,
   "metadata": {
    "collapsed": true
   },
   "outputs": [],
   "source": [
    "train_data, test_data, train_labels, test_labels = model_selection.train_test_split(data, target,  \n",
    "                                                                                     test_size = 0.3)"
   ]
  },
  {
   "cell_type": "markdown",
   "metadata": {},
   "source": [
    "#### LinearRegression"
   ]
  },
  {
   "cell_type": "code",
   "execution_count": 32,
   "metadata": {
    "collapsed": false
   },
   "outputs": [
    {
     "name": "stdout",
     "output_type": "stream",
     "text": [
      "[ -52.37232463   41.95683853  -61.47026695  -84.32102748  126.64909941\n",
      "  -21.47606913  -45.27502383  -11.18242389   -0.74051877   18.17188553\n",
      "   49.41686419   19.66406455  -22.64686884   64.70214251   13.31981235\n",
      "   11.06961035  -27.02798161   10.33267887   64.19559505   14.76930132\n",
      "  -35.32062686   17.64282734   51.87072011  -80.80239408   39.70663436\n",
      "   22.13032804  -36.69728864   34.35183007  -10.06708677  -44.51417742]\n",
      "[ -40.82558721   46.29712728  -57.174697    -82.64534324  126.53807404\n",
      "  -17.646268    -48.44284229  -12.07920494    2.23871454   20.07924255\n",
      "   57.02410697   26.93589538  -17.39687478   69.58999605   14.8479796\n",
      "   27.74126588  -23.94660126    9.45092868   70.96938999    7.73232465\n",
      "  -42.59743261   20.85628259   52.66666264  -78.4516698    39.0068076\n",
      "   21.27381335  -26.37803673   40.25097095   -7.87593508  -54.50132513]\n",
      "4.64436347664\n"
     ]
    }
   ],
   "source": [
    "linear_regressor = linear_model.LinearRegression()\n",
    "linear_regressor.fit(train_data, train_labels)\n",
    "predictions = linear_regressor.predict(test_data)\n",
    "print (test_labels)\n",
    "print (predictions)\n",
    "print(metrics.mean_absolute_error(test_labels, predictions))"
   ]
  },
  {
   "cell_type": "code",
   "execution_count": 33,
   "metadata": {
    "collapsed": false
   },
   "outputs": [
    {
     "name": "stdout",
     "output_type": "stream",
     "text": [
      "mean: -4.070071498779695, std: 1.0737104492890204\n"
     ]
    }
   ],
   "source": [
    "linear_scoring = model_selection.cross_val_score(linear_regressor, data, target, scoring = 'neg_mean_absolute_error', \n",
    "                                                  cv = 10)\n",
    "print ('mean: {}, std: {}'.format(linear_scoring.mean(), linear_scoring.std()))"
   ]
  },
  {
   "cell_type": "code",
   "execution_count": 34,
   "metadata": {
    "collapsed": false
   },
   "outputs": [
    {
     "name": "stdout",
     "output_type": "stream",
     "text": [
      "mean: 4.070071498779695, std: 1.0737104492890204\n"
     ]
    }
   ],
   "source": [
    "scorer = metrics.make_scorer(metrics.mean_absolute_error, greater_is_better = True)\n",
    "linear_scoring = model_selection.cross_val_score(linear_regressor, data, target, scoring=scorer, \n",
    "                                                  cv = 10)\n",
    "print ('mean: {}, std: {}'.format(linear_scoring.mean(), linear_scoring.std()))"
   ]
  },
  {
   "cell_type": "code",
   "execution_count": 35,
   "metadata": {
    "collapsed": false
   },
   "outputs": [
    {
     "name": "stdout",
     "output_type": "stream",
     "text": [
      "[ 38.58531354  -0.31014876]\n",
      "0.289180847617\n",
      "y = 38.59*x1 + -0.31*x2\n"
     ]
    }
   ],
   "source": [
    "print(linear_regressor.coef_)\n",
    "print(linear_regressor.intercept_)\n",
    "print (\"y = {:.2f}*x1 + {:.2f}*x2\".format(linear_regressor.coef_[0], linear_regressor.coef_[1]))"
   ]
  },
  {
   "cell_type": "markdown",
   "metadata": {},
   "source": [
    "#### Lasso"
   ]
  },
  {
   "cell_type": "code",
   "execution_count": 36,
   "metadata": {
    "collapsed": false
   },
   "outputs": [
    {
     "name": "stdout",
     "output_type": "stream",
     "text": [
      "mean: 4.154478246666398, std: 1.0170354384993348\n",
      "y = 37.74*x1 + -0.00*x2\n"
     ]
    }
   ],
   "source": [
    "lasso_regressor = linear_model.Lasso(random_state = 3)\n",
    "lasso_regressor.fit(train_data, train_labels)\n",
    "lasso_predictions = lasso_regressor.predict(test_data)\n",
    "lasso_scoring = model_selection.cross_val_score(lasso_regressor, data, target, scoring = scorer, cv = 10)\n",
    "print ('mean: {}, std: {}'.format(lasso_scoring.mean(), lasso_scoring.std()))\n",
    "print (\"y = {:.2f}*x1 + {:.2f}*x2\".format(lasso_regressor.coef_[0], lasso_regressor.coef_[1]))"
   ]
  },
  {
   "cell_type": "markdown",
   "metadata": {},
   "source": [
    "#### mean absolute error"
   ]
  },
  {
   "cell_type": "code",
   "execution_count": 37,
   "metadata": {
    "collapsed": false
   },
   "outputs": [
    {
     "data": {
      "text/plain": [
       "4.5066204243124615"
      ]
     },
     "execution_count": 37,
     "metadata": {},
     "output_type": "execute_result"
    }
   ],
   "source": [
    "metrics.mean_absolute_error(test_labels, lasso_predictions)"
   ]
  },
  {
   "cell_type": "markdown",
   "metadata": {},
   "source": [
    "#### mean squared error"
   ]
  },
  {
   "cell_type": "code",
   "execution_count": 38,
   "metadata": {
    "collapsed": false
   },
   "outputs": [
    {
     "data": {
      "text/plain": [
       "32.71039851558551"
      ]
     },
     "execution_count": 38,
     "metadata": {},
     "output_type": "execute_result"
    }
   ],
   "source": [
    "metrics.mean_squared_error(test_labels, lasso_predictions)"
   ]
  },
  {
   "cell_type": "markdown",
   "metadata": {},
   "source": [
    "#### root mean squared error"
   ]
  },
  {
   "cell_type": "code",
   "execution_count": 39,
   "metadata": {
    "collapsed": false
   },
   "outputs": [
    {
     "data": {
      "text/plain": [
       "5.7193005267764612"
      ]
     },
     "execution_count": 39,
     "metadata": {},
     "output_type": "execute_result"
    }
   ],
   "source": [
    "sqrt(metrics.mean_squared_error(test_labels, lasso_predictions))"
   ]
  },
  {
   "cell_type": "markdown",
   "metadata": {},
   "source": [
    "#### r2 score"
   ]
  },
  {
   "cell_type": "code",
   "execution_count": 40,
   "metadata": {
    "collapsed": false
   },
   "outputs": [
    {
     "data": {
      "text/plain": [
       "0.9848357338405328"
      ]
     },
     "execution_count": 40,
     "metadata": {},
     "output_type": "execute_result"
    }
   ],
   "source": [
    "metrics.r2_score(test_labels, lasso_predictions)"
   ]
  },
  {
   "cell_type": "markdown",
   "metadata": {
    "collapsed": true
   },
   "source": [
    "### Линейные модели рекомендации\n",
    "* масштабирование признаков <br>\n",
    "вычисляем среднее значение и стандартное отклонение <br>\n",
    "$$\\mu_j=\\frac{1}{l}\\sum_{i=1}^{l} x_i^j $$ $$\\sigma_j=\\sqrt{\\sum_{i=1}^{l}( x_i^j-\\mu_j)^2}$$\n",
    "**Стандартизация(нормализация)**$$x_i^j:=\\frac{ x_i^j-\\mu_j}{\\sigma_j}$$ **масштабирование на отрезок [0,1]**$$m_j=min(x_1^j,...,x_l^j)$$$$M_j=max(x_1^j,...,x_l^j)$$$$x_i^j:=\\frac{ x_i^j-m_j}{M_j-m_j}$$"
   ]
  },
  {
   "cell_type": "markdown",
   "metadata": {},
   "source": [
    "### Использование спрямляющих пространств\n",
    "к примеру: если модель плохо описывает данные , можно попробовать добавть полиномы высого порядка(при степени равной 2 -добавляем новые признаки , равные квадратам исходных+ попарные произведения <br>**логарифмирование**$$x_i \\to ln(x_i+1)$$$$x_i \\to ln(|x_i|+1)$$\n",
    "\n",
    "### Категориальные признаки\n",
    "используем бинарное кодирование(если признак принимает n значений, добавляем n признаков и кодируем каждое значение вектором из 0 и 1\n",
    "### Несбаллансированные выборки\n",
    "*undersampling( выкидываем часть объектов)\n",
    "*oversampling( дополням часть объектов)\n",
    "\n",
    "*стратификация"
   ]
  },
  {
   "cell_type": "code",
   "execution_count": 41,
   "metadata": {
    "collapsed": false
   },
   "outputs": [],
   "source": [
    "from sklearn import  datasets, linear_model, metrics,model_selection\n",
    "import numpy as np\n",
    "import pandas as pd"
   ]
  },
  {
   "cell_type": "code",
   "execution_count": 42,
   "metadata": {
    "collapsed": true
   },
   "outputs": [],
   "source": [
    "iris = datasets.load_iris()\n",
    "train_data, test_data, train_labels, test_labels = model_selection.train_test_split(iris.data, iris.target, \n",
    "                                                                                     test_size = 0.3,random_state = 0)\n",
    "#создаем модель\n",
    "classifier = linear_model.SGDClassifier(random_state = 0)"
   ]
  },
  {
   "cell_type": "markdown",
   "metadata": {},
   "source": [
    "### Генерация сетки"
   ]
  },
  {
   "cell_type": "code",
   "execution_count": 43,
   "metadata": {
    "collapsed": false
   },
   "outputs": [
    {
     "data": {
      "text/plain": [
       "dict_keys(['n_jobs', 'fit_intercept', 'l1_ratio', 'epsilon', 'shuffle', 'power_t', 'eta0', 'loss', 'random_state', 'warm_start', 'verbose', 'average', 'learning_rate', 'class_weight', 'penalty', 'alpha', 'n_iter'])"
      ]
     },
     "execution_count": 43,
     "metadata": {},
     "output_type": "execute_result"
    }
   ],
   "source": [
    "classifier.get_params().keys()"
   ]
  },
  {
   "cell_type": "code",
   "execution_count": 44,
   "metadata": {
    "collapsed": false
   },
   "outputs": [],
   "source": [
    "#задаем параметры для перебора\n",
    "parameters_grid = {\n",
    "    'loss' : ['hinge', 'log', 'squared_hinge', 'squared_loss'],\n",
    "    'penalty' : ['l1', 'l2'],\n",
    "    'n_iter' : list(range(5,10)),\n",
    "    'alpha' : np.linspace(0.0001, 0.001, num = 5),\n",
    "}\n",
    " \n",
    "#cv =model_selection.StratifiedShuffleSplit(n_splits =10, test_size = 0.2).split(train_data, train_labels)\n",
    "#cv = model_selection.StratifiedShuffleSplit(train_labels, n_iter = 10, test_size = 0.2, random_state = 0)\n",
    "cv=model_selection.StratifiedShuffleSplit(n_splits = 10, test_size = 0.2)#.split(train_data, train_labels)"
   ]
  },
  {
   "cell_type": "markdown",
   "metadata": {},
   "source": [
    "### Подбор параметров и оценка качества\n",
    "#### Grid search"
   ]
  },
  {
   "cell_type": "code",
   "execution_count": 45,
   "metadata": {
    "collapsed": false
   },
   "outputs": [],
   "source": [
    "grid_cv = model_selection.GridSearchCV(classifier, parameters_grid, scoring = 'accuracy', cv = cv)"
   ]
  },
  {
   "cell_type": "code",
   "execution_count": 46,
   "metadata": {
    "collapsed": false
   },
   "outputs": [
    {
     "name": "stdout",
     "output_type": "stream",
     "text": [
      "Wall time: 8.43 s\n"
     ]
    },
    {
     "data": {
      "text/plain": [
       "GridSearchCV(cv=StratifiedShuffleSplit(n_splits=10, random_state=None, test_size=0.2,\n",
       "            train_size=None),\n",
       "       error_score='raise',\n",
       "       estimator=SGDClassifier(alpha=0.0001, average=False, class_weight=None, epsilon=0.1,\n",
       "       eta0=0.0, fit_intercept=True, l1_ratio=0.15,\n",
       "       learning_rate='optimal', loss='hinge', n_iter=5, n_jobs=1,\n",
       "       penalty='l2', power_t=0.5, random_state=0, shuffle=True, verbose=0,\n",
       "       warm_start=False),\n",
       "       fit_params={}, iid=True, n_jobs=1,\n",
       "       param_grid={'loss': ['hinge', 'log', 'squared_hinge', 'squared_loss'], 'penalty': ['l1', 'l2'], 'n_iter': [5, 6, 7, 8, 9], 'alpha': array([ 0.0001 ,  0.00032,  0.00055,  0.00078,  0.001  ])},\n",
       "       pre_dispatch='2*n_jobs', refit=True, return_train_score=True,\n",
       "       scoring='accuracy', verbose=0)"
      ]
     },
     "execution_count": 46,
     "metadata": {},
     "output_type": "execute_result"
    }
   ],
   "source": [
    "%%time\n",
    "grid_cv.fit(train_data, train_labels)"
   ]
  },
  {
   "cell_type": "code",
   "execution_count": 47,
   "metadata": {
    "collapsed": false
   },
   "outputs": [
    {
     "data": {
      "text/plain": [
       "SGDClassifier(alpha=0.001, average=False, class_weight=None, epsilon=0.1,\n",
       "       eta0=0.0, fit_intercept=True, l1_ratio=0.15,\n",
       "       learning_rate='optimal', loss='squared_hinge', n_iter=9, n_jobs=1,\n",
       "       penalty='l1', power_t=0.5, random_state=0, shuffle=True, verbose=0,\n",
       "       warm_start=False)"
      ]
     },
     "execution_count": 47,
     "metadata": {},
     "output_type": "execute_result"
    }
   ],
   "source": [
    "grid_cv.best_estimator_"
   ]
  },
  {
   "cell_type": "code",
   "execution_count": 48,
   "metadata": {
    "collapsed": false
   },
   "outputs": [
    {
     "name": "stdout",
     "output_type": "stream",
     "text": [
      "0.909523809524\n",
      "{'loss': 'squared_hinge', 'penalty': 'l1', 'n_iter': 9, 'alpha': 0.001}\n"
     ]
    }
   ],
   "source": [
    "print (grid_cv.best_score_)\n",
    "print (grid_cv.best_params_)"
   ]
  },
  {
   "cell_type": "markdown",
   "metadata": {},
   "source": [
    "#### Randomized grid search"
   ]
  },
  {
   "cell_type": "code",
   "execution_count": 49,
   "metadata": {
    "collapsed": false
   },
   "outputs": [
    {
     "name": "stdout",
     "output_type": "stream",
     "text": [
      "Wall time: 940 ms\n"
     ]
    }
   ],
   "source": [
    "%%time\n",
    "randomized_grid_cv = model_selection.RandomizedSearchCV(classifier, parameters_grid, scoring = 'accuracy', cv = cv, n_iter = 20, \n",
    "                                                   random_state = 0)\n",
    "randomized_grid_cv.fit(train_data, train_labels)"
   ]
  },
  {
   "cell_type": "code",
   "execution_count": 50,
   "metadata": {
    "collapsed": false
   },
   "outputs": [
    {
     "name": "stdout",
     "output_type": "stream",
     "text": [
      "0.871428571429\n",
      "{'loss': 'squared_hinge', 'penalty': 'l1', 'n_iter': 8, 'alpha': 0.00077500000000000008}\n"
     ]
    }
   ],
   "source": [
    "print (randomized_grid_cv.best_score_)\n",
    "print (randomized_grid_cv.best_params_)"
   ]
  },
  {
   "cell_type": "markdown",
   "metadata": {},
   "source": [
    "### Scaling"
   ]
  },
  {
   "cell_type": "code",
   "execution_count": 51,
   "metadata": {
    "collapsed": true
   },
   "outputs": [],
   "source": [
    "from sklearn.preprocessing import StandardScaler,FunctionTransformer,OneHotEncoder\n",
    "#создаем стандартный scaler\n",
    "scaler = StandardScaler()\n",
    "scaler.fit(train_data, train_labels)\n",
    "scaled_train_data = scaler.transform(train_data)\n",
    "scaled_test_data = scaler.transform(test_data)"
   ]
  },
  {
   "cell_type": "markdown",
   "metadata": {},
   "source": [
    "### Pipeline"
   ]
  },
  {
   "cell_type": "code",
   "execution_count": 52,
   "metadata": {
    "collapsed": false
   },
   "outputs": [
    {
     "data": {
      "text/plain": [
       "0.066666666666666666"
      ]
     },
     "execution_count": 52,
     "metadata": {},
     "output_type": "execute_result"
    }
   ],
   "source": [
    "from sklearn.pipeline import Pipeline,FeatureUnion\n",
    "#создаем pipeline из двух шагов: scaling и классификация\n",
    "pipeline = Pipeline(steps = [('scaling', scaler), ('classifier', classifier)])\n",
    "pipeline.fit(train_data, train_labels)\n",
    "metrics.mean_absolute_error(test_labels, pipeline.predict(test_data))"
   ]
  },
  {
   "cell_type": "markdown",
   "metadata": {},
   "source": [
    "### Pipeline Подбор параметров"
   ]
  },
  {
   "cell_type": "code",
   "execution_count": 53,
   "metadata": {
    "collapsed": false
   },
   "outputs": [
    {
     "data": {
      "text/plain": [
       "dict_keys(['steps', 'classifier__random_state', 'classifier__shuffle', 'classifier__epsilon', 'classifier__average', 'classifier__power_t', 'classifier__class_weight', 'classifier__n_jobs', 'classifier__penalty', 'classifier__learning_rate', 'classifier__verbose', 'scaling__copy', 'scaling__with_mean', 'scaling', 'classifier__warm_start', 'scaling__with_std', 'classifier__n_iter', 'classifier__l1_ratio', 'classifier', 'classifier__loss', 'classifier__eta0', 'classifier__fit_intercept', 'classifier__alpha'])"
      ]
     },
     "execution_count": 53,
     "metadata": {},
     "output_type": "execute_result"
    }
   ],
   "source": [
    "pipeline.get_params().keys()"
   ]
  },
  {
   "cell_type": "code",
   "execution_count": 54,
   "metadata": {
    "collapsed": false
   },
   "outputs": [],
   "source": [
    "parameters_grid = {\n",
    "    'regression__loss' : ['huber', 'epsilon_insensitive', 'squared_loss', ],\n",
    "    'regression__n_iter' : [3, 5, 10, 50], \n",
    "    'regression__penalty' : ['l1', 'l2', 'none'],\n",
    "    'regression__alpha' : [0.0001, 0.01],\n",
    "    'scaling__with_mean' : [0., 0.5],\n",
    "}\n",
    "grid_cv = model_selection.GridSearchCV(pipeline, parameters_grid, scoring = 'mean_absolute_error', cv = 4)"
   ]
  },
  {
   "cell_type": "code",
   "execution_count": 55,
   "metadata": {
    "collapsed": false
   },
   "outputs": [
    {
     "data": {
      "text/plain": [
       "[('scaling', StandardScaler(copy=True, with_mean=True, with_std=True)),\n",
       " ('classifier',\n",
       "  SGDClassifier(alpha=0.0001, average=False, class_weight=None, epsilon=0.1,\n",
       "         eta0=0.0, fit_intercept=True, l1_ratio=0.15,\n",
       "         learning_rate='optimal', loss='hinge', n_iter=5, n_jobs=1,\n",
       "         penalty='l2', power_t=0.5, random_state=0, shuffle=True, verbose=0,\n",
       "         warm_start=False))]"
      ]
     },
     "execution_count": 55,
     "metadata": {},
     "output_type": "execute_result"
    }
   ],
   "source": [
    "pipeline.steps"
   ]
  },
  {
   "cell_type": "code",
   "execution_count": 56,
   "metadata": {
    "collapsed": false
   },
   "outputs": [],
   "source": [
    "# ести нужно разделять признаки:\n",
    "estimator = Pipeline(steps = [       \n",
    "    ('feature_processing', FeatureUnion(transformer_list = [        \n",
    "            #binary\n",
    "            ('binary_variables_processing', FunctionTransformer(lambda data: data[:, binary_data_indices])), \n",
    "                    \n",
    "            #numeric\n",
    "            ('numeric_variables_processing',Pipeline(steps = [\n",
    "                ('selecting', FunctionTransformer(lambda data: data[:, numeric_data_indices])),\n",
    "                ('scaling', StandardScaler(with_mean = 0))            \n",
    "                        ])),\n",
    "        \n",
    "            #categorical\n",
    "            ('categorical_variables_processing',Pipeline(steps = [\n",
    "                ('selecting', FunctionTransformer(lambda data: data[:, categorical_data_indices])),\n",
    "                ('hot_encoding', OneHotEncoder(handle_unknown = 'ignore'))            \n",
    "                        ])),\n",
    "        ])),\n",
    "    ('model_fitting', classifier)\n",
    "    ]\n",
    ")"
   ]
  }
 ],
 "metadata": {
  "anaconda-cloud": {},
  "kernelspec": {
   "display_name": "Python [default]",
   "language": "python",
   "name": "python3"
  },
  "language_info": {
   "codemirror_mode": {
    "name": "ipython",
    "version": 3
   },
   "file_extension": ".py",
   "mimetype": "text/x-python",
   "name": "python",
   "nbconvert_exporter": "python",
   "pygments_lexer": "ipython3",
   "version": "3.5.2"
  }
 },
 "nbformat": 4,
 "nbformat_minor": 2
}
