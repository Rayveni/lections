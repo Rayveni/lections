{
 "cells": [
  {
   "cell_type": "markdown",
   "metadata": {},
   "source": [
    "### Подготовка\n",
    " 1. качаем клиент  [клиент](http://git-scm.com/downloads)\n",
    " 2. устанавливаем обертку на python(не обязательно)\n",
    "* !pip install GitPython\n",
    " 3. Генерация ssh ключа:\n",
    " * открываем Git Bash\n",
    " * ssh-keygen -t rsa -b 4096 -C \"your_email@example.com\"\n",
    " * вводим локацию rsa ключа\n",
    " * опционально вводим пароль\n",
    "  eval `ssh-agent -s`\n",
    "  ssh-add /c/Users/****/id_rsa\n",
    " * добавляем ключ  ssh-add /c/Users/***/jupyter_projects/id_rsa\n",
    "\n",
    " \n",
    "### Работа"
   ]
  },
  {
   "cell_type": "code",
   "execution_count": 1,
   "metadata": {
    "collapsed": true
   },
   "outputs": [],
   "source": [
    "import sys\n",
    "sys.path.insert(1, r'C:\\Users\\Kart\\jupyter_projects\\lections\\devops\\git')\n",
    "import mygit as mg"
   ]
  },
  {
   "cell_type": "code",
   "execution_count": 2,
   "metadata": {
    "collapsed": true
   },
   "outputs": [],
   "source": [
    "folder=r'C:\\Users\\Kart\\jupyter_projects\\webtrade'\n",
    "git_url='git@github.com:Rayveni/web.git'\n",
    "gt=mg.gitwrapper(folder)\n",
    "#a.clone(git_url,True)"
   ]
  },
  {
   "cell_type": "markdown",
   "metadata": {},
   "source": [
    " #### Клонируем репозиторий"
   ]
  },
  {
   "cell_type": "code",
   "execution_count": 3,
   "metadata": {},
   "outputs": [
    {
     "name": "stdout",
     "output_type": "stream",
     "text": [
      "webtrade\n",
      "┣━[webtrade]\n",
      "┃   ┗━readme.md\n",
      "┗━README.md\n"
     ]
    }
   ],
   "source": [
    "gt.clone(git_url,print_tree=True)"
   ]
  },
  {
   "cell_type": "markdown",
   "metadata": {},
   "source": [
    "#### Добавляем настроенный на python .gitignore "
   ]
  },
  {
   "cell_type": "code",
   "execution_count": 6,
   "metadata": {},
   "outputs": [
    {
     "name": "stdout",
     "output_type": "stream",
     "text": [
      "webtrade\n",
      "┣━[webtrade]\n",
      "┃   ┗━readme.md\n",
      "┣━.gitignore\n",
      "┗━README.md\n"
     ]
    }
   ],
   "source": [
    "gt.pyignore()\n",
    "gt.FileTreeMaker(folder,['.git'])"
   ]
  },
  {
   "cell_type": "markdown",
   "metadata": {},
   "source": [
    "#### Обновляем master ветку"
   ]
  },
  {
   "cell_type": "code",
   "execution_count": 8,
   "metadata": {},
   "outputs": [
    {
     "name": "stdout",
     "output_type": "stream",
     "text": [
      "On branch master\n",
      "Your branch is ahead of 'origin/master' by 1 commit.\n",
      "  (use \"git push\" to publish your local commits)\n",
      "\n",
      "nothing to commit, working tree clean\n"
     ]
    }
   ],
   "source": [
    "gt.push_commit(git_url,commit_msg='init_commit')"
   ]
  }
 ],
 "metadata": {
  "kernelspec": {
   "display_name": "Python 3",
   "language": "python",
   "name": "python3"
  },
  "language_info": {
   "codemirror_mode": {
    "name": "ipython",
    "version": 3
   },
   "file_extension": ".py",
   "mimetype": "text/x-python",
   "name": "python",
   "nbconvert_exporter": "python",
   "pygments_lexer": "ipython3",
   "version": "3.6.7"
  }
 },
 "nbformat": 4,
 "nbformat_minor": 2
}
