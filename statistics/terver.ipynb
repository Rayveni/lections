{
 "cells": [
  {
   "cell_type": "markdown",
   "metadata": {},
   "source": [
    "## Предмет теории вероятностей\n",
    "**Теория вероятностей** -математическая наука, изучающая закономерности, присущие массовым случайным явлениям.При этом изучаемые явления рассматриваются в абстрактной форме,независимо от их конкретной природы.<br>\n",
    "**Предметом теории вероятностей** является математические модели случайных явлений.<br>При этом под **случайным явлением** понимают явление, предсказать исход которого невозможно.<br>**Цель теории вероятностей** -осуществление прогноза в области случайных явлений,влияние на ход этих явлений, контроль их, ограничение сферы действия случайности.<br>**Случайным событием** называается любой исход опыта,который может произойти или не произойти.<br>Непосредственные исходы опыта называются **элементарными событиями** и обозначается через $\\omega$<br>Множествено всех элементарных событий называется **пространством элементарных событий или пространством исходов**, обозначается через $\\Omega$<br>Событие называется **достоверным**,если оно обязательно наступит в результате данного опыта,обозначается $\\Omega$\n",
    "<br>Событие называется **невозможным**,если оно заведомо не наступит в результате данного опыта,обозначается $\\emptyset$<br> Событие называется **несовместными**,если появление одного из них исключает появление другого события,т.е. не смогут произойти в одном опыте.В противном случае события называются **совместные**.<br>События $A_1,A_2,....,A_n$ называются **попарно-независимыми**,если любые два из них несовместны.<br>\n",
    "Несколько событий образуют **полную группу**, если они попарно несовместны и в результате каждого опыта происходит одно и только одно из них.\n",
    "### Действия над событиями\n",
    "**Суммой событий**$A$ и $B$ называется событие $C=A+B$,состоящее в наступлении хотя бы одного из них (т.е. или $A$,или $B$,или $A$ и $B$ вместе).<br>**Произведением событий** $A$ и $B$ называется событие $C=A \\cdot B$, состоящее в совместном наступлении этих событий. \n",
    "<br>**Разностью событий** $A$ и $B$ называется событие $C=A - B$, происходящее тогда и только тогда,когда происходит событие $A$, но не происходит событие $B$. \n",
    "<br>**Противоположным событию** $A$  называется событие $\\bar A$, которое происходит тогда и только тогда,когда не происходит событие  $A$. \n",
    "<br>Событие $A$ **влечёт событие** $B$, если из того, что происходит событие $A$, следует, что происходит событие $B$;записывается $A \\subseteq B$\n",
    "\n",
    "* $A+B=B+A,A \\cdot B= B \\cdot A$\n",
    "* $ (A+B) \\cdot C=A \\cdot C +B \\cdot C= A \\cdot B +C =(A+B) \\cdot (B+C)$\n",
    "* $  (A+B)+C=A+(B+C),(A \\cdot B) \\cdot C=A \\cdot (B \\cdot C) $\n",
    "* $A+A=A,A \\cdot A =A   $\n",
    "* $A +\\Omega=\\Omega ,A \\cdot \\Omega =A   $\n",
    "* $A + \\bar A= \\Omega,A \\cdot \\bar A =\\emptyset  $\n",
    "* $ \\bar \\emptyset =\\Omega ,\\bar \\Omega=\\emptyset, \\bar {\\bar A}=A$\n",
    "* $A-B =A \\cdot \\bar B$\n",
    "* $\\bar {A+B} =\\bar A \\cdot \\bar B$ и $A \\cdot B=\\bar A+\\bar B$-законы де Моргана\n",
    "\n",
    "#### Важно!\n",
    "* $A+B=A +\\bar A  B$\n",
    "* $B= A\\cdot B+ \\bar A \\cdot B $\n",
    "* $(A+C) \\cdot (B+C)=A \\cdot B +C$\n",
    "\n",
    "## Схема выбора без возвращений\n",
    "**Размещением** из $n$ элементов по $m$ элементов $(0<m \\leq n)$ называется любое упорядоченное подмножество данного множества ,содержащее $m$ элементов.<br>\n",
    "$$A^m_n=n(n-1)\\cdot...\\cdot (n-m+1)=\\frac{n!}{(n-m)!}$$\n",
    "**Перестановкой** из $n$ элементов по $m$ элементов называют размещение из  $n$ элементов по  $n$  элементам.\n",
    "$$P_n=b!$$\n",
    "**Сочетанием** из $n$ элементов по $m$ элементов $(0<m \\leq n)$ называется любое  подмножество  ,содержащее $m$ элементов данного множества.<br>\n",
    "$$C^m_n=\\frac{n!}{m!(n-m)!}$$\n",
    "$$A^m_n=C^m_n \\cdot P_m$$\n",
    "св-ва:\n",
    "$$C^m_n=C^{n-m}_n,(m \\leq n) $$\n",
    "$$C^0_n+C^1_n+....+C^n_n=2^n $$\n",
    "$$C^m_n=C^m_{n-1}+C^{m-1}_{n-1},(1<m<n)$$\n",
    "#### Примеры:\n",
    "1. Группа студентов изучает 10 различных дисциплин.Сколькими способами можно составить расписание занятий на понедельник,если в этот день должны быть 4 уникальных занятия?<br>\n",
    "*$A^4_{10}$*\n",
    "2. Сколькими способами можно рассадить 5 человек за круглым столом?<br> $P_4=4!$( 1 сел где угодно)\n",
    "3. Сколькими способами можно расставить 7 книг чтобы определенные 3 стояли рядом?Не рядом?<br>$P_5 \\cdot P_3,P_7-P_5 \\cdot P_3$\n",
    "4. В урне 12 белых и 8 черных шаров.Сколькими способами можно выбрать 5 шаров, чтобы из них было:<br>\n",
    "a)5 черных б)3 белых и 2 черных<br>$C^5_8$ ,$C^2_8 \\cdot C^3_5$\n",
    "\n",
    "## Схема выбора с возвращенями\n",
    "Число размещений с повторениями:\n",
    "$$\\bar A^m_n=m^n$$\n",
    "Число сочетаний с повторениями:\n",
    "$${\\bar С}^m_n=С^m_{n+m-1}$$\n",
    "<br>Перестановки с повторениями (1-й элемент повторяется $n_1$ раз, второй $n_2$ раз ,k-й $n_k$ раз:\n",
    "$$P_n(n_1,n_2,...,n_k)=\\frac{n!}{n_1!n_2!...n_k!}$$\n",
    "#### Примеры:\n",
    "1. Известно, что 7 студентов сдали экзамен на хорошо и отлично.Сколькими способами могли быть поставлены оценки?<br>\n",
    "  $\\bar A^2_7=2^7$\n",
    "2. Сколькими способами можно составить набор из 4 пироженых , если имеются 6 сортов?<br>\n",
    "${\\bar С}^4_6$\n",
    "3. Сколькими способами можно разместить 9 человек в 2х,3х и 4х местном номере?<br>\n",
    "   $P_9=\\frac{9!}{2!3!4!}$\n"
   ]
  },
  {
   "cell_type": "markdown",
   "metadata": {},
   "source": [
    "## Геометрическое определение вероятности \n",
    "Рассмотрим на плоскости некоторую область $\\Omega$,имеющую площадь $S_{\\Omega}$, и внутри области $\\Omega$ область $D$,имеющую площадь $S_D$.В области $\\Omega$ случайно выбирается точка $X$.Предполагается что все точки $\\Omega$ равноправны.Пусть событие $A={X \\in D}$ ,т.е. брошенная точка попадает в область $D$.<br>\n",
    "**Геометрической вероятностью** события $A$ называют отношение площади области $D$ к площади $\\Omega$.\n",
    "$$P(A)=\\frac{S_D}{S_{\\Omega}}$$\n",
    "\n",
    "\n",
    "\n",
    "\n",
    "#### Пример:\n",
    "Какова вероятность Вашей встречи с другом, если вы договорились встретиться в определенном месте, с 12.00 до 13.00 часов и ждете друг друга в течение 5 минут?<br>\n",
    "\n",
    "\n",
    "Обозначим за х и у время прихода, 0≤х,у≤60 (минут). В прямоугольной системе координат этому условию удовлетворяют точки, лежащие внутри квадрата ОАВС. Друзья встретятся, если между моментами их прихода пройдет не более 5 минут, то есть\n",
    "$$y−x<5,y>x,$$\n",
    "$$x−y<5,x>y.$$\n",
    "Этим неравенствам удовлетворяют точки, лежащие в области G, очерченной красным. \n",
    "![geom_prob](../img/geom_probability.gif)\n",
    "$$P(A)=\\frac{S_G}{S_{OABC}}=\\frac{60\\cdot 60-55\\cdot 55}{60\\cdot 60}=\\frac{23}{144}=0,16$$\n",
    "## Аксиоматическое определение вероятности \n",
    "Пусть $\\Omega$-множество всех возможных исходов,$S$ -алгебра событий (*алгебра*($\\sigma$-алгебра)-совокупность $S$ подмножеств множества $\\Omega$,если выполнены следующие условия: <br> \n",
    "1. $S$ содержит невозможное и достоверное события. \n",
    "2. Если события $A_1,A_2,A_3,...$(конечное или счётное множество) принадлежат $S$,то $S$ принадлежит сумма, произведение и дополнение этих событий.)\n",
    "\n",
    "\n",
    "**вероятностью** называется функция $P(A)$,определенная на алгебре событий $S$,принимающая действительные значения и удовлетворяющая следующим аксиомам: <br> \n",
    "1. *Аксиома неотрицательности:*вероятность любого события $A$ неотрицательна,т.е.$$P(A)\\geq 0$$\n",
    "2. *Аксиома нормированности:*вероятность достоверного события равна 1,т.е.$$P(\\Omega)=1$$\n",
    "3. *Аксиома аддитивности:*вероятность суммы несовместимых событий равна сумме вероятностей этих событий,т.е. если $A_i \\cdot A_j=\\emptyset (i \\neq j)$ ,<br>то $$P \\big(\\sum_k A_k \\big)=\\sum_k P(A_k)$$\n",
    "\n",
    "\n",
    "### Свойства вероятностей\n",
    "1. Вероятность невозможного события равна нулю,т.е. $$P(\\emptyset)=0$$\n",
    "2. Сумма вероятностей противоположных событий равна 1,т.е. $$P(A)+ P(\\bar A)=1$$\n",
    "3. Вероятность любого события не превосходит 1,т.е. $$P(A)\\leq 1$$\n",
    "4. Если $A \\subseteq B$, т.е. событие $A$ влечёт за собой событие $B$,то $$P(A)\\leq P(B)$$\n",
    "5. Если события $A_1,A_2,A_3,...,A_n$ образуют полную группу несовместимых событий,<br>т.е.$\\sum_{i=n}^n A_i= \\Omega $ и $ A_i \\cdot A_j=\\emptyset$ ,то $$\\sum_{i=n}^n P(A_i)=1$$\n",
    "\n",
    "Важно заметить, что обратное неверно, то есть из *нулевого значения вероятности не следует, того, что данное событие является невозможным.*<br>пример:\n",
    "эксперимент состоит в том, что монета подбрасывается бесконечное число раз. Событие «Монета бесконечное число раз упадет цифрой вверх» имеет нулевую вероятность, но оно может произойти.\n",
    "#### Пример: \n",
    "Из колоды из 36 карт наудачу вынимают 3 карты.Найти вероятность того, что среди них окажется хотя бы одна дама.<br>\n",
    "Пусть $A$- интересующее нас событие,$A_1$ -появление одной дамы,$A_2$ -двух,$A_3$-трех.Тогда $A=A_1+A_2+A_3$ , так как события несовместные.$$P(A)=\\frac{C_4^1 \\cdot C_{32}^2+C_4^2 \\cdot  C_{32}^1+C_4^3 \\cdot  C_{32}^0}{C_{36}^3}$$\n",
    "\n",
    "## Условные вероятности\n",
    "**условной вероятностью** события $B$ при условии, что произошло событие $A$,называется  отношение вероятности произведения этих событий к вероятности события $A$,причем $P(A) \\neq 0$,обозначается символом $P(B|A)$$$P(B|A)=\\frac{P(A \\cdot B)}{P(A)}$$\n",
    "Вероятность $P(B)$ называется **безусловной вероятностью**\n",
    "#### Пример: \n",
    "В урне 2 белых и 7 чёрных шара.Из неё последовательно вынимают два шара.Какова вероятность того, что 2-ой шар окажется белым, если 1-ый шар был чёрным.\n",
    "\n",
    "1. первый способ <br>Пусть $A$ -1-ый шар чёрный,$B$ -2-ой шар белый.Так как событие A произошло, в урне осталось 2 белых и 6 черных шара.$$P(B|A)=\\frac{2}{8}=0.25$$\n",
    "2. второй способ <br>$P(A)=\\frac{7}{9}$ ,$n=8 \\cdot 9=72$-общее число исходов,$P(AB)=\\frac{C_2^1 \\cdot C^1_7}{72}=\\frac{7}{36}$ Следовательно,$$P(B|A)=\\frac{7}{36}:\\frac{7}{9}=0.25$$\n",
    "\n",
    "\n",
    "\n",
    "### Вероятность произведения событий.Независимость событий.\n",
    "\n",
    "$$ P(A \\cdot B)=P(B|A)\\cdot P(B)=P(A|B)\\cdot P(A)$$\n",
    "\n",
    "Обобщаем на $n$ событий:$$P(A_1 \\cdot A_2 \\cdot....\\cdot A_n)=P(A_1)\\cdot P(A_2 | A_1) \\cdot P(A_3|A_1 \\cdot A_2) \\cdot ...\\cdot P(A_n|A_1 \\cdot A_2 \\cdot A_3\\cdot ... \\cdot A_{n-1})$$\n",
    "#### Пример: \n",
    "В коробке находятся 4 белых,3 синих и 2 чёрных шара.Наудачу последовательно вынимают 3 шара.Какова вероятность, что 1 шар будет белым,2-ой синим,3-ий чёрным?<br> $A_1$- первым вытащили белый шар,$A_2$- вторым вытащили синий и $A_3$ - последним вытащили чёрный. <br>Тогда интересующее нас событие $A=A_1 \\cdot A_3 \\cdot A_3$.По правилу умножения вероятностей $P(A)=P(A_1)\\cdot P(A_2 | A_1) \\cdot P(A_3|A_1 \\cdot A_2)$<br> $P(A_1)=\\frac{4}{9};P(A_2|A_1)=\\frac{3}{8};P(A_3|A_1 \\cdot A_2)=\\frac{2}{7}$.<br> Следовательно $P(A)=\\frac {4}{9} \\cdot \\frac {3}{8} \\cdot \\frac {2}{7}=\\frac{1}{21}$\n",
    "\n",
    "Событие $A$ называется **независимым** от события $B$ если его условная вероятность равна безусловной, т.е. $$P(B|A)=P(A)$$\n",
    "Для независимых событий правило умножения вероятностей принимает вид: $$P(A \\cdot B)=P(A) \\cdot P(B)$$\n",
    "\n",
    "Понятие независимости может быть распространено на случай $n$ событий.\n",
    "\n",
    "События $A_1,A_2,...,A_n$ называются *независимыми*(или *независимыми в совокупности*), если каждое из них не зависит от произведения любого числа остальных событий и от каждого в отдельности. В противном случае  события $A_1,A_2,...,A_n$ называются *зависимыми*.\n",
    "#### Пример: \n",
    "Бросается игральная кость. Пусть события $A$- появление чётного числа очков,событие $B$- появление более трёх очков.Зависимы или нет события $A$ и $B$?<br>\n",
    "$\\Omega={1,2,3,4,5,6}$,$A={2,4,6}$,$B={4,5,6}$\n",
    "$P(A)=\\frac{3}{6}$ ,$P(B)=\\frac{1}{2}$,$P(A \\cdot B)=\\frac{2}{6}$,т.е.<br>\n",
    "$P(AB)=\\frac{1}{3} \\neq P(A) \\cdot P(B)=\\frac{1}{2} \\cdot \\frac {1}{2}=\\frac{1}{4}$\n",
    "\n",
    "### Вероятность суммы событий.\n",
    "\n",
    "Вероятность суммы двух совместных событий равно сумме их вероятностей без вероятности их произведения.$$P(A+B)=P(A)+P(B)-P(A \\cdot B).$$\n",
    "\n",
    "#### Пример:  \n",
    "Бросаются две игральные кости.Какова вероятность появления хотя бы одной шестёрки?<br>\n",
    "Введём события :$A$ -появленик шестёрки на первой кости,$B$ -на второй кости.Тогда $A+B$ -появление хотя бы одной шестёрки при бросании костей.События $A$ и $B$ совместные.<br>\n",
    "$P(A+B)=\\frac{1}{6}+\\frac{1}{6}-\\frac{1}{6} \\cdot \\frac{1}{6}=\\frac{11}{36}$\n",
    "#### Пример: \n",
    "В урне 2 белых и 7 чёрных шаров.Без возврата вынимают 2 шара на угад.Какова вероятность,что они будут разных цветов?<br>\n",
    "$A$- первый шар белый,$B$- второй шар чёрный.Тогда $AB+\\bar A \\bar B$ оба шара разных цветов.$P(AB+\\bar A \\bar B)=\\frac{2}{9} \\cdot \\frac{7}{8}+\\frac {7}{9} \\cdot \\frac {2}{8}=\\frac {28}{72}$\n",
    "#### Пример: \n",
    "Три орудия стреляют в цель.Вероятность попадания равна 0.7.а)Найти вероятность попадания в цель только одного из орудий.б)хотя бы одного <br>\n",
    "a) $A \\bar B \\bar C+B \\bar A \\bar C+C \\bar B \\bar A$ $P(A \\bar B \\bar C+B \\bar A \\bar C+C \\bar B \\bar A)=3 \\cdot 0.7 \\cdot {(1-0.7)}^2$ <br>\n",
    "б) Рассмотрим вероятность события , что все орудия промазали: $p={(1-0.7)}^3 \\approx 0.027 $ следовательно,вероятность попадания хотя бы одного из них: $1-p\\approx 0.973$"
   ]
  },
  {
   "cell_type": "markdown",
   "metadata": {},
   "source": [
    "### Формула полной вероятности\n",
    "\n",
    "События $A_1,A_2,...,A_n$ образуют полную группу,если $A_i \\cdot A_j= \\emptyset,i \\neq j$ и $\\sum _{i=1}^n A_i=\\Omega$ <br> Система таких событий называется также **разбиением**.<br>\n",
    "**теорема:** Пусть события $H_1,H_2,...,H_n$ образуют полную группу.Тогда для любого,наблюдаемого в опыте, события $A$ имеет место формула **полной вероятности** или **средней вероятности** $$P(A)=\\sum_{i=1}^n P(H_i) \\cdot P(A|H_i)$$\n",
    "события $H_1,...H_n$ называют **гипотезами**; они исчерпывают все возможные предположения(гипотезы) относительно исходов как бы первого этапа опыта, событие $A$ -один из возможных исходов второго этапа.\n",
    "#### Пример: \n",
    "В сборочных цех завода поступает 40% деталей из I цеха и 60% из II цеха.В первом цехе производится 90% стандартных деталей, а во втором -95%.Найти вероятность того, что взятая наудачу сборщиком деталь окажется стандартной.<br>\n",
    "Взятие детали можно разбить на 2 этапа: Первый это выбор цеха.имеются две гипотезы:$H_1$-деталь изготовлена I цехом,$H_2$ - II цехом.Второй этап -взятие детали.Событие $A$-деталь стандартна.Очевидно, что $H_1$ и $H_2$ образуют полную группу.$P(H_1)=0.4,P(H_2)=0.6$ $P(A|H_1)=0.9$ и $P(A|H_2)=0.95$<br>\n",
    "Тогда $P(A)=\\sum_{i=1}^2 P(H_i) \\cdot P(A|H_i)=0.4 \\cdot 0.9 +0.6 \\cdot 0.95=0.93$\n",
    "\n",
    "#### Пример: \n",
    "Из 40 билетов студент выучил 30.Каким ему выгоднее зайти на экзамен, первым или вторым?<br>\n",
    "$A_1$ -студент сдаст экзамен,если зайдет первым,$P(A_1)=\\frac{3}{4}$ <br>\n",
    "$A_2$ -студент сдаст экзамен,если зайдет вторым$H_1$ -гипотеза,что предыдущий студент вытащил билет , который он знал,$H_2$-не знал.$P(H_1)=\\frac{3}{4}$,$P(H_1)=\\frac{1}{4},P(A|H_1)=\\frac {29}{39},P(A|H_2)=\\frac {30}{39}$ $$P(A)=\\frac {3}{4} \\cdot \\frac{29}{39}+\\frac {1}{4} \\cdot \\frac{30}{39}=\\frac {3}{4}$$\n",
    "\n",
    "### Формула Байеса (теорема гипотез)\n",
    "Позволяет оценить вероятности гипотез $H_i$,принятых до опыта и называемых **априорными**(«a priori»,доопытные) по результатам уже проведенного опыта, т.е. найти условные вероятности $P(A|H_i)$,которые называются **апостериорными**(«a  posteriori»,послеопытные)<br>\n",
    "Пусть события $H_1,H_2,...,H_n$ образуют полную группу.Тогда условная вероятность события $H_k(k=\\overline{1,n})$ при условии, что событие $A$ произошло, задаётся формулой $$P(H_k|A)=\\frac{P(H_k) \\cdot P(A|H_i)}{P(A)}$$ где $P(A)=P(H_1) \\cdot P(H|A_1)+....+P(H_n) \\cdot P(H|A_n)$- формула полной вероятности<br>**д-во:** $$P(H_k|A)=\\frac{P(H_k \\cdot A)}{P(A)}=\\frac{P(H_k) \\cdot P(A|H_k)}{P(A)}$$\n",
    "#### Пример: \n",
    "В предыдущем примере найти вероятность того, что стандартная деталь изготовлена II цехом.$$P(H_2|A)=\\frac {P(H_2)\\cdot P(A|H_2)}{P(A)}=\\frac{0.6 \\cdot 0.95}{0.93}$$\n",
    "\n"
   ]
  },
  {
   "cell_type": "markdown",
   "metadata": {
    "collapsed": true
   },
   "source": [
    "### Независимые испытания.Схема Бернулли.\n",
    "Несколько опытов называются **независимыми**, если их исходы представляют независимые события(независимые в совокупности).<br>\n",
    "Последовательность $n$ независимых испытаний, в каждом из которых может произойти некоторое событие $A$ (его называют *успехом*) с вероятностью $p$ или противоположное емк событие $\\bar A$ (его называют *неудачей*) с вероятностью $P(\\bar A)=q=1-p$,называется **схемой Бернулли**.\n",
    "#### Формула Бернулли.\n",
    "Простейшая задача, относящаяся к схеме Бернулли, состоит в определении вероятности того, что в $n$ независимых испытаниях событие $A$ наступит $m$ раз$(0 \\leq m \\leq n )$.Обозначается искомая вероятность:$P_n(m)$ или $P_{n,m}$ или $P(\\mu_n=m)$,где $\\mu_n$ -число появлений события $A$ в серии из $n$ опытов.\n",
    "\n",
    "**Теорема:** Если производится *n* независимых испытаний, в каждом из которых вероятность появления события $A$ равна $p$, а вероятность его непоявления равна $q=1-p$, то вероятность того, что событие $A$ произойдёт $m$ раз определяется формулой **Бернулли**:$$P_n(m)=C^m_n \\cdot p^m \\cdot q^{n-m}, m=0,1,2,...,n$$\n",
    "\n",
    "Можно заметить,что вероятности $P_n(m),m=0,1,...,n$ являются коэффициентами при $x^m$ в разложении $(q+px)^n$ по формуле бинома Ньютона:$$ (q+px)^n=q^n+C^1_nq^{n-1}px+C^2_nq^{n-2}p^2x^2+...+C^m_nq^{n-m}p^mx^m+...+p^nx^n$$\n",
    "\n",
    "\n",
    "Поэтому совокупность вероятностей $P_n(m)$ называются **биномиальным законом распределения вероятностей**, а функцию $\\phi(x)=(q+px)^n$-**производящей функцией** для последовательности независимых опытов.<br>\n",
    "\n",
    "Если в каждом из независимых испытаний вероятность наступления события $A$ *разные*, то вероятность того, что событие $A$ наступит $m$ раз в $n$ опытах,равна коэффициенту при $m$ степени многочлена $\\phi(x)=(q_1+p_1z)(q_2+p_2z)\\cdot ...\\cdot (q_n+p_nz)$,где $\\phi(z)$-производящая функция.\n",
    "\n",
    "Если в серии из $n$ независимых опытов, в каждом из которых может произойти одно и только одно из $k$ событий $A_1,A_2,...,A_k$ с соответствующими вероятностями $p_1,p_2,...,p_k$, то вероятность того, что в этих опытах события $A_1$ появится событие $m_1$ раз,событие $A_2-m_2$  раз,...,событие $A_k-m_k$ раз,равна $$P_n(m_1,m_2,...,m_k)=\\frac{n!}{m_1!m_2!....m_k!}p^{m_1}_1p^{m_2}_2...p^{m_k}_k$$,где $m_1+m_2+...+m_k=n$ Вероятности называются **полиномиальным распределением**.\n",
    "\n",
    "#### Пример: \n",
    "Производится 3 независимых  выстрела по цели.Вероятности попадания при разных выстрелах одинаковы и равны $p=0.9$.Какова вероятность:а) промаха б) одного попадания в) двух попаданий г) трёх попаданий?Решить задачу в случае,если вероятности попадания при разных выстрелах равны:$p_1=0.7,p_2=0.8,p_3=0.9$\n",
    "\n",
    "<br>а) $C^2_3 \\cdot 0.7^2 \\cdot 0.3$ ,б) $C^1_3 \\cdot 0.7 \\cdot 0.3^2$ в) $C^2_3 \\cdot 0.7^2 \\cdot 0.3$ г)$0.9^3$ <br>\n",
    "0а) рассчитаем производяющую функции$(0.3+0.7z)(0.2+0.8z)(0.1+0.9z)=0.504 z^3+0.398 z^2+0.092 z+0.006$<br>\n",
    "Отсюда находим вероятность 1,2,3 попаданий соответсвенно :0.092,0.398,0.504"
   ]
  },
  {
   "cell_type": "markdown",
   "metadata": {},
   "source": [
    "### Предельные теоремы в схеме Бернулли.\n",
    "#### Теорема Пуассона\n",
    "\n",
    "Если число испытаний неограниченно увеличивается ($ n \\rightarrow \t\\infty$) и вероятность наступления события $A$  в кажом испытании неограниченно уменьшается( $ p \\rightarrow 0$),но так, что их произведение $np$ является постоянной величиной ($np=a=const$), то вероятность $P_n(m)$ удовлетворяет предельному равенству $$lim_{n \\rightarrow \t\\infty}P_n(m)=\\frac{a^m e^{-a}}{m!}$$\n",
    "\n",
    "Из предельного равенства при больших $n$ и малых $p$ вытекает **приближённая формула Пуассона**$$P_n(m) \\approx \\frac{a^m e^{-a}}{m!},a=pn,         m=0,1,2...$$\n",
    "\n",
    "Приближенную формулу обычно используют когда $n\\geq 50 $ , а   $np\\leq10 $\n",
    "\n",
    "\n",
    "Формула Пуассона находит применение в **теории массового обслуживания**\n",
    "\n",
    "#### Пример: \n",
    "В Москву отправили 1500 бутылок вина.Вероятность того, что бутылка разобьётся равна 0.002.Найти вероятность того, что в пути будет разбито не более 4 бутылок.\n",
    "\n",
    "Искомая вероятность:\n",
    "\n",
    "$P_1500(0)+P_1500(1)+P_1500(2)+P_1500(3)+P_1500(4)$, $a= np=1500 \\cdot 0.002=3 $\n",
    "\n",
    "Тогда по формуле Пуассона искомая вероятность $P(A)=\\frac{3^0 e^{-3}}{0!}+\\frac{3^1 e^{-3}}{1!}+\\frac{3^2 e^{-3}}{2!}+\\frac{3^3 e^{-3}}{3!}+\\frac{3^4 e^{-3}}{4!} \\approx 0.815$\n",
    "#### Потоки событий\n",
    "**Потоком событий** называется последовательность событий, наступающих в случайные моменты времени (например, поток посетителей в парикмахерской, поток вызовов на телефонную станцию,поток обслуженныъ абонентов,etc)\n",
    "\n",
    "Поток событий,обладающий свойствами стационарности, ординарности и отсутсвия последствий,называется **простейшим (пуассоновским) потоком**\n",
    "\n",
    "Свойство **стационарности** означает, что вероятность появления $k$ событий на участке времени $\\tau$  зависит только от его длины(т.е. не зависит от начала отсчёта).Следовательно, **среднне число событий, появляющихся в единицу времени**,так называемая интенсивность $\\lambda$ потока, есть величина постоянная:$\\lambda (t)=\\lambda$\n",
    "\n",
    "Свойство **ординарности** означает,что событие появляется не группами, а поодиночке.Другими словами,вероятность пояления  более чем одного события на малый участок времени $\\triangle t$  пренебрежительно мала по сравнению с вероятномтью появлени только одного события.(например поток катеров, подходящих к причалу, ординарен)\n",
    "\n",
    "Свойство **отсутсвие последсвия** означает, что вероятность появления $k$ событий на любом участке времени длины $\\tau$ не зависит от того,сколько событий появилось на любом другом не пересекающимся с ним участком ( говорят:«будущее» потока не зависит от «прошлого»,например, поток людей,входящих  в супермаркет)\n",
    "\n",
    "Вероятность появления $m$ событий простейшего потока за время продолжительности $t$ определяется формулой Пуассона:\n",
    "$$P_t(m)=p_m=\\frac{(\\lambda t)^m \\cdot e ^{-\\lambda t}}{m!}$$\n",
    "#### Пример: \n",
    "Телефонная станция обслуживает 2000 абонентов.Вероятность позвонить любому абоненту в течение часа равна 0.003.Какова вероятность того,что в течение часа позвонят 5 абонентов?\n",
    "\n",
    "Среднее число позвонивших в течение часа абонетов равно $2000 \\cdot 0.003=6$ Следовательно $p_5=\\frac{6 ^5 \\cdot e^{-6}}{5!} \\approx 0.13$"
   ]
  },
  {
   "cell_type": "markdown",
   "metadata": {},
   "source": [
    "# Локальная и интегральная теоремы Муавра-Лапласа\n",
    "### Локальна теорема Муавра-Лапласа\n",
    "Если вероятность $p$  наступления события $A$ в каждом испытании постоянна и отлична от нуля и единицы, а число независимых испытания достаточно велико, то вероятность $$P_n(m)\\approx \\frac{1}{\\sqrt{npq}}\\cdot \\frac{1}{\\sqrt{2\\pi}} \\exp^{-\\frac{x^2}{2}},    \\text{  где }  x\\text{    }  =\\frac{m-np}{\\sqrt{npq}}$$\n",
    "\n",
    "Выражение $$\\frac{1}{\\sqrt{2\\pi}} \\exp^{-\\frac{x^2}{2}}=\\phi(x)$$\n",
    "называется **функцией Гаусса**, а ее график-**кривой вероятностей**\n",
    "\n",
    "1. функция $\\phi(x)$ чётная\n",
    "2. при $x \\geq 4$ можно считать , что $\\phi(x)=0$"
   ]
  },
  {
   "cell_type": "code",
   "execution_count": 12,
   "metadata": {},
   "outputs": [
    {
     "data": {
      "image/png": "[encoded data removed]",
      "text/plain": [
       "<matplotlib.figure.Figure at 0x20a03bde9b0>"
      ]
     },
     "metadata": {},
     "output_type": "display_data"
    }
   ],
   "source": [
    "import numpy as np\n",
    "import matplotlib.pyplot as plt\n",
    "from scipy.stats import norm\n",
    "%matplotlib inline \n",
    "# Plot between -10 and 10 with .001 steps.\n",
    "x_axis = np.linspace(norm.ppf(0.01),norm.ppf(0.99), 100)\n",
    "# Mean = 0, SD = 2.\n",
    "plt.plot(x_axis, norm.pdf(x_axis,0,0.7));"
   ]
  },
  {
   "cell_type": "markdown",
   "metadata": {},
   "source": [
    "#### Пример: \n",
    "Вероятность попадания в мишень при одном выстреле равна 0.7.Найти вероятность того,что при 200 выстрелах мишень будет поражена 160 раз.\n",
    "\n"
   ]
  },
  {
   "cell_type": "code",
   "execution_count": null,
   "metadata": {
    "collapsed": true
   },
   "outputs": [],
   "source": []
  },
  {
   "cell_type": "code",
   "execution_count": null,
   "metadata": {
    "collapsed": true
   },
   "outputs": [],
   "source": []
  },
  {
   "cell_type": "code",
   "execution_count": 14,
   "metadata": {},
   "outputs": [
    {
     "data": {
      "text/plain": [
       "0.0033695080206774812"
      ]
     },
     "execution_count": 14,
     "metadata": {},
     "output_type": "execute_result"
    }
   ],
   "source": [
    "import scipy\n",
    "scipy.stats.norm.pdf(3.09)"
   ]
  },
  {
   "cell_type": "code",
   "execution_count": null,
   "metadata": {
    "collapsed": true
   },
   "outputs": [],
   "source": []
  },
  {
   "cell_type": "code",
   "execution_count": null,
   "metadata": {
    "collapsed": true
   },
   "outputs": [],
   "source": []
  },
  {
   "cell_type": "code",
   "execution_count": null,
   "metadata": {
    "collapsed": true
   },
   "outputs": [],
   "source": []
  },
  {
   "cell_type": "code",
   "execution_count": 3,
   "metadata": {
    "collapsed": true
   },
   "outputs": [],
   "source": [
    "?norm.pdf"
   ]
  },
  {
   "cell_type": "code",
   "execution_count": 10,
   "metadata": {
    "collapsed": true
   },
   "outputs": [],
   "source": [
    "factorial(0)\n",
    "x=lambda x:16**x *exp(-16)/factorial(x)"
   ]
  },
  {
   "cell_type": "code",
   "execution_count": 11,
   "metadata": {},
   "outputs": [
    {
     "data": {
      "text/plain": [
       "0.03409769982849128"
      ]
     },
     "execution_count": 11,
     "metadata": {},
     "output_type": "execute_result"
    }
   ],
   "source": [
    "x(10)"
   ]
  },
  {
   "cell_type": "code",
   "execution_count": 6,
   "metadata": {
    "collapsed": true
   },
   "outputs": [],
   "source": [
    "from math import factorial,exp\n",
    "C_n_m=lambda m,n:factorial(n)/factorial(m)/factorial(n-m)"
   ]
  },
  {
   "cell_type": "code",
   "execution_count": 8,
   "metadata": {
    "collapsed": true
   },
   "outputs": [],
   "source": [
    "import matplotlib.pyplot as plt\n",
    "%matplotlib inline"
   ]
  },
  {
   "cell_type": "code",
   "execution_count": 9,
   "metadata": {},
   "outputs": [
    {
     "data": {
      "text/plain": [
       "[<matplotlib.lines.Line2D at 0x22e9f520d30>]"
      ]
     },
     "execution_count": 9,
     "metadata": {},
     "output_type": "execute_result"
    },
    {
     "data": {
      "image/png": "[encoded data removed]",
      "text/plain": [
       "<matplotlib.figure.Figure at 0x22e9f35bbe0>"
      ]
     },
     "metadata": {},
     "output_type": "display_data"
    }
   ],
   "source": [
    "plt.plot([0,1,2,3],[0.001,0.027,0.243,0.729])"
   ]
  },
  {
   "cell_type": "code",
   "execution_count": null,
   "metadata": {
    "collapsed": true
   },
   "outputs": [],
   "source": []
  }
 ],
 "metadata": {
  "kernelspec": {
   "display_name": "Python 3",
   "language": "python",
   "name": "python3"
  },
  "language_info": {
   "codemirror_mode": {
    "name": "ipython",
    "version": 3
   },
   "file_extension": ".py",
   "mimetype": "text/x-python",
   "name": "python",
   "nbconvert_exporter": "python",
   "pygments_lexer": "ipython3",
   "version": "3.6.2"
  }
 },
 "nbformat": 4,
 "nbformat_minor": 2
}
