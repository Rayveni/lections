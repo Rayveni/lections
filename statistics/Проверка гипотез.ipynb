{
 "cells": [
  {
   "cell_type": "markdown",
   "metadata": {},
   "source": [
    "# Проверка гипотез\n",
    "&emsp;&emsp;&emsp;&emsp;Выборка: $X^n=(X_1,...,X_n),X \\sim P$<br>\n",
    "Нулевая гипотеза: $H_0:P \\in\\omega$<br>\n",
    "&emsp;&emsp;Альтернатива: $H_1:P \\not\\in\\omega$ <br>мы хотим, глядя на данные, понять какая из гипотез более вероятна,для этого воспользуемся статистикой:<br>\n",
    "&emsp;&emsp;&emsp;Статистика: $T(X^n),T(X^n)\\sim F(x)$ при $H_0$<br>\n",
    "&emsp;&emsp;&emsp;&emsp;&emsp;&emsp;&emsp;&emsp;$T(X^n)\\not\\sim F(x)$ при $H_1$<br>\n",
    "$F(x)$-нулевое распределение стастисти\n",
    "Вместе $T$ и $F(x)$ - статистический критерий для проверки $H_0$ против $H_1$<br>**------------------**\n",
    "<br>Таким образом собрали выборку, подсчитали значение статистики $t$<br>\n",
    "Насколько оно вероятно при справедливости $H_1$?\n",
    "<br>Какова вероятность при $H_0$ получить значение $t$ или больше?\n",
    "\n",
    "### Достигаемый уровень значимости(p-value):\n",
    "$$p=P(T\\geq t|H_0)$$\n",
    "\n",
    "![pvalue](../img/pvalue.png)\n",
    "**p** - вероятность при справедливости нулевой гипотезы получить значение статитстики как в эксперименте или еще более экстримальное(относильно альтернативной гипотезы).\n",
    "<br>\n",
    "**p** мало $\\Rightarrow$ данные свидетельствуют против нулевой гипотезы в пользу альтернативы.\n",
    "<br><br>\n",
    "$\\alpha$ - уровень значимости ;$H_0$ отвергается в пользу $H_1$ при $p\\leq\\alpha$\n",
    "## Ошибки I и II рода\n",
    "\n",
    "   | $H_0$ верна | $H_0$ неверна \n",
    "  ------------- | -------------|\n",
    "  $H_0$ принимается  | $H_0$ верно принята | Ошибка II рода \n",
    "  $H_0$ непринимается  | Ошибка I рода | $H_0$ верно отвергнута \n",
    "#### ошибка первого рода критичнее:<br>\n",
    "$P(отвергаем H_0|H_0)$ жестко ограничивается:<br>\n",
    "если $H_0$ отвергается при $p\\leq\\alpha$, то вероятность ошибки первого рода:<br>\n",
    "$P(H_0 отвергнута |H_0 верна)=P(p\\leq\\alpha|H_0)\\leq\\alpha$<br>\n",
    "Таким образом, правильно построенный критерий имеет вероятность ошибки I рода не больше, чем $\\alpha$\n",
    "#### ошибку второго рода $P(принимает H_0|H_1)$ мягко минимизируем:<br>\n",
    "**мощность критерия:**<br>\n",
    "pow=P(отвергаем $H_0|H_1$)=1-P(принимаем $H_0|H_1$)\n",
    "<br> То есть,среди всех критериев, которые корректны,мы выбираем критерий максимальной мощности.<br>\n",
    "$H_0$ и $H_1$ не равнозначны!\n",
    "<br>Нельза доказать ,что $H_0$ верна:<br>\n",
    "* $p\\leq\\alpha\\Rightarrow H_0$ отвергается в пользу $H_1$<br>\n",
    "* $p >\\alpha\\Rightarrow H_0$ не отвергается в пользу $H_1$<br>\n",
    "\n",
    "Отсутсвие доказательств чего-то не является доказательством обратного!"
   ]
  },
  {
   "cell_type": "markdown",
   "metadata": {
    "collapsed": true
   },
   "source": [
    "### Статистическая и практическая значимость\n",
    "Интерес представляет не **p**, а размер эффекта- степень отклонения данных от нулевой гипотезы.\n",
    "##### Размер эффекта\n",
    "###### Примеры:\n",
    "* Вероятность верного предсказания\n",
    "* Вероятность выздоровления пациента, принимающего лекарство, минус вероятность выздоровления пациента , принимающего плацебо\n",
    "* Увеличение среднего чека интернет магазина, при подключении программы лояльности\n",
    "\n",
    "Размер эффекта это величина, определенная на генеральной совокупности, которой у нас нет(есть только выборка).<br>\n",
    "<br>Оценка размера эффекта по выборке - случайная величина\n",
    "<br>**p** показывает, с какой вероятностью такую оценку можно было получить случайно\n",
    "<br>**p** зависит не только от размера эффекта,но и от размера выборки<br>\n",
    "по мере увеличения $n$, $H_0$ может сначала приниматься, но потом выявятся более тонкие несоотвествия выборки гипотезе $H_0$, и она будет отвергнута<br>Именно поэтому даже если мы отвергли нулевую гипотезу, это еще не значит,что эффект имеет практическую значимость.<br>\n",
    "**Практическую значимость** нужно оценивать отдельно.\n",
    "<br>\n",
    "#### Статистически значимо практически незначимо\n",
    "За три года женщины,упражнявшиеся не меньше часа в день,набрали значимо меньше веса, чем женщины упражнявшиеся меньше 20 минут в день ($P<0.001$)<br>\n",
    "разница в набранном весе составила 150г. Практическая значимость сомнительна.\n",
    "#### Статистически значимо практически значимо\n",
    "Гормональный препарат ''Премарин'',облегчающий симпотомы менопаузы.<br>\n",
    "В 2002 году клинические испытания были досрочно прерваны.Было обнаружено, что приём ведёт к значительному увеличению риска развития рака груди(на 0.08%) , риска инсульта(на 0.08%) и инфаркта(на 0.07%)<br>\n",
    "Эффект выглядит маленьким, но с учётом численности населения он превращается в тысячи дополнительных смертей.\n",
    "#### Статистически незначимо практически значимо\n",
    "Лекартсво, замедляющее остабление интеллекта больных Альцгеймером.\n",
    "При испытаниях оказывается , что разница в IQ контрольной и тестовой групп составляет 13 пунктов)(практически значимо), но разница статистически незначима.<br>\n",
    "В этом случае нужно увеличить выборку, уменьшить дисперсию оценки эффекта  и продолжить исследование."
   ]
  },
  {
   "cell_type": "markdown",
   "metadata": {},
   "source": [
    "### Примеры\n",
    "#### Биномиальный критерий для доли\n",
    "Джеймс Бонд говорит, что предпочитает мартини смешанным, но не взболтанным. Проведём слепой тест (blind test): n раз предложим ему пару напитков и выясним, какой из двух он предпочитает:\n",
    "* **выборка** - бинарный вектор длины $n$, где 1 - Джеймс Бонд предпочел смешанный напиток, 0 - взболтанный;\n",
    "* **гипотеза $H_0$** - Джеймс Бонд не различает 2 вида напитков и выбирает наугад;\n",
    "* **статистика $T$** - количество единиц в выборке.\n",
    "<br>Если нулевая гипотеза справедливая и Джеймс Бонд действительно выбирает наугад, то мы можем с одинаковой вероястностью получить лююой из $ 2^n$ бинарных векторов длины $n$.<br>\n",
    "\n",
    "Мы могли бы перебрать все такие векторы,посчитать на каждом значение статистики T и получить таким образом ее нулевое распределение. Но в таком случае этот этап можно пропустить: мы имеем дело с выборкой, состоящей из 0 и 1, то есть из распределения Бернулли $Ber(p)$.Нулевая гипотеза выбора наугад соответсвуют значению $p=\\frac{1}{2}$,то есть, в каждом эксперименте вероятность выбора взболтанного мартини равна $\\frac{1}{2}$.Сумма $n$ одинаково распределенных бернуллиевских случайных величинс параметром **p** имеет биномиальное распределение $Bin(p,n)$.Следовательно распределение статистики $T\\sim Bin(n,\\frac{1}{2})$<br>Пусть $n=16$"
   ]
  },
  {
   "cell_type": "code",
   "execution_count": 1,
   "metadata": {
    "collapsed": false
   },
   "outputs": [
    {
     "name": "stdout",
     "output_type": "stream",
     "text": [
      "Populating the interactive namespace from numpy and matplotlib\n"
     ]
    }
   ],
   "source": [
    "import numpy as np\n",
    "from scipy import stats\n",
    "%pylab inline"
   ]
  },
  {
   "cell_type": "code",
   "execution_count": 2,
   "metadata": {
    "collapsed": false
   },
   "outputs": [
    {
     "data": {
      "text/plain": [
       "(-0.5, 16.5)"
      ]
     },
     "execution_count": 2,
     "metadata": {},
     "output_type": "execute_result"
    },
    {
     "data": {
      "image/png": "[encoded data removed]",
      "text/plain": [
       "<matplotlib.figure.Figure at 0x4867ba8>"
      ]
     },
     "metadata": {},
     "output_type": "display_data"
    }
   ],
   "source": [
    "n = 16 #число экспериментов с Джеймс Бондом\n",
    "F_H0=stats.binom(n,0.5)\n",
    "x=np.linspace(0,16,17)\n",
    "#pmf-probabilyty mass function\n",
    "pylab.bar(x,F_H0.pmf(x),align='center')\n",
    "xlim(-0.5,16.5)"
   ]
  },
  {
   "cell_type": "markdown",
   "metadata": {},
   "source": [
    "#### Односторонняя альтернатива\n",
    "**гипотеза $H_1$** - Джеймс Бонд предпочитает смешанный напиток.<br>\n",
    "При такой альтернативе более вероятны большие значения статистики,при расчёте достигаемого уровня значимости будем суммировать высоту столбиков в правом хвосте распределения\n",
    "<br>*предположим* , он верно ответил в 12 из 16 испытаний, тогда T статистика равнялась бы 12"
   ]
  },
  {
   "cell_type": "code",
   "execution_count": 3,
   "metadata": {
    "collapsed": false
   },
   "outputs": [
    {
     "data": {
      "text/plain": [
       "(-0.5, 16.5)"
      ]
     },
     "execution_count": 3,
     "metadata": {},
     "output_type": "execute_result"
    },
    {
     "data": {
      "image/png": "[encoded data removed]",
      "text/plain": [
       "<matplotlib.figure.Figure at 0x886fc88>"
      ]
     },
     "metadata": {},
     "output_type": "display_data"
    }
   ],
   "source": [
    "pylab.bar(x,F_H0.pmf(x),align='center')\n",
    "pylab.bar(np.linspace(12,16,5),F_H0.pmf(np.linspace(12,16,5)),align='center',color='red')\n",
    "xlim(-0.5,16.5)"
   ]
  },
  {
   "cell_type": "code",
   "execution_count": 4,
   "metadata": {
    "collapsed": false
   },
   "outputs": [
    {
     "data": {
      "text/plain": [
       "('p-value', 0.0384063720703125)"
      ]
     },
     "execution_count": 4,
     "metadata": {},
     "output_type": "execute_result"
    }
   ],
   "source": [
    "'p-value',stats.binom_test(12,16,0.5,alternative='greater')"
   ]
  },
  {
   "cell_type": "markdown",
   "metadata": {},
   "source": [
    "0.03 <0.05,следовательно на уровне значимости 0.05, гипотезу о том, что Бонд не различает мартини, отвергаем.\n",
    "\n",
    "\n",
    "Предположим, он верно ответил в 11 из 16 испытаний:"
   ]
  },
  {
   "cell_type": "code",
   "execution_count": 5,
   "metadata": {
    "collapsed": false
   },
   "outputs": [
    {
     "name": "stdout",
     "output_type": "stream",
     "text": [
      "p-value 0.105056762695\n"
     ]
    },
    {
     "data": {
      "image/png": "[encoded data removed]",
      "text/plain": [
       "<matplotlib.figure.Figure at 0x8965ba8>"
      ]
     },
     "metadata": {},
     "output_type": "display_data"
    }
   ],
   "source": [
    "pylab.bar(x,F_H0.pmf(x),align='center')\n",
    "pylab.bar(np.linspace(11,16,6),F_H0.pmf(np.linspace(11,16,6)),align='center',color='red')\n",
    "xlim(-0.5,16.5)\n",
    "print('p-value',stats.binom_test(11,16,0.5,alternative='greater'))"
   ]
  },
  {
   "cell_type": "markdown",
   "metadata": {},
   "source": [
    "В этом случае нулевая гипотеза не отвергается.\n",
    "### Двусторонняя альтернатива\n",
    "**гипотеза $H_1$** - Джеймс Бонд предпочитает какой-то определённый вид мартини.<br>\n",
    "При такой альтернативе более вероятны очень большие и очень маленькие значения статистики, при расчёте достигаемого уровня значимости будем суммировать высоту столбиков в левом и правом хвостах распределения."
   ]
  },
  {
   "cell_type": "code",
   "execution_count": 6,
   "metadata": {
    "collapsed": false
   },
   "outputs": [
    {
     "name": "stdout",
     "output_type": "stream",
     "text": [
      "n=12 ,p-value= 0.0768127441406\n"
     ]
    },
    {
     "data": {
      "image/png": "[encoded data removed]",
      "text/plain": [
       "<matplotlib.figure.Figure at 0x9eb6048>"
      ]
     },
     "metadata": {},
     "output_type": "display_data"
    }
   ],
   "source": [
    "pylab.bar(x,F_H0.pmf(x),align='center')\n",
    "pylab.bar(np.linspace(12,16,5),F_H0.pmf(np.linspace(12,16,5)),align='center',color='red')\n",
    "pylab.bar(np.linspace(0,4,5),F_H0.pmf(np.linspace(0,4,5)),align='center',color='red')\n",
    "xlim(-0.5,16.5)\n",
    "print('n=12',',p-value=',stats.binom_test(12, 16, 0.5, alternative = 'two-sided'))"
   ]
  },
  {
   "cell_type": "code",
   "execution_count": 7,
   "metadata": {
    "collapsed": false
   },
   "outputs": [
    {
     "name": "stdout",
     "output_type": "stream",
     "text": [
      "n=13 p-value 0.0212707519531\n"
     ]
    },
    {
     "data": {
      "image/png": "[encoded data removed]",
      "text/plain": [
       "<matplotlib.figure.Figure at 0x9f4f2b0>"
      ]
     },
     "metadata": {},
     "output_type": "display_data"
    }
   ],
   "source": [
    "pylab.bar(x,F_H0.pmf(x),align='center')\n",
    "pylab.bar(np.linspace(13,16,4),F_H0.pmf(np.linspace(13,16,4)),align='center',color='red')\n",
    "pylab.bar(np.linspace(0,3,4),F_H0.pmf(np.linspace(0,3,4)),align='center',color='red')\n",
    "xlim(-0.5,16.5)\n",
    "print('n=13','p-value',stats.binom_test(13, 16, 0.5, alternative = 'two-sided'))"
   ]
  },
  {
   "cell_type": "markdown",
   "metadata": {},
   "source": [
    "### Критерий согласия Пирсона ( $\\chi^2$) \n",
    "Критерий проверки того, что наблюдаемая случайная величина подчиняется тому или иному теоретическому распределению<br>\n",
    "**задача**:<br>\n",
    "Исчерпанная рождаемость — количество детей, родившихся у женщины на момент окончания конвенционального репродуктивного возраста (45 лет). Для 1878 женщин старше 45, участвовавших в социологическом опросе жителей Швейцарии, известно количество детей. Этот признак — типичный счётчик, а, значит, его можно попробовать описать распределением Пуассона.<br>\n",
    "* **выборка** - целочисленный вектор длиы $n$, характеризующий количество детей у опрашиваемой женщины\n",
    "* **гипотеза $H_0$** - рассматриваемая величина имеет распределение Пуассона"
   ]
  },
  {
   "cell_type": "code",
   "execution_count": 8,
   "metadata": {
    "collapsed": false
   },
   "outputs": [
    {
     "data": {
      "text/plain": [
       "[0, 0, 2, 0, 2, 3, 2, 2, 2, 2, 1, 2, 0, 2, 0, 2, 3, 2, 2, 4]"
      ]
     },
     "execution_count": 8,
     "metadata": {},
     "output_type": "execute_result"
    }
   ],
   "source": [
    "fin = open(r'..\\data\\fertility.txt', 'r')\n",
    "data = list(map(lambda x: int(x.strip()), fin.readlines()))\n",
    "data[:20]"
   ]
  },
  {
   "cell_type": "code",
   "execution_count": 9,
   "metadata": {
    "collapsed": false
   },
   "outputs": [
    {
     "data": {
      "image/png": "[encoded data removed]",
      "text/plain": [
       "<matplotlib.figure.Figure at 0x4b49908>"
      ]
     },
     "metadata": {},
     "output_type": "display_data"
    }
   ],
   "source": [
    "pylab.bar(range(12), np.bincount(data), color = 'b', label = 'fertility_stat')\n",
    "pylab.legend();"
   ]
  },
  {
   "cell_type": "code",
   "execution_count": 10,
   "metadata": {
    "collapsed": false
   },
   "outputs": [
    {
     "data": {
      "text/plain": [
       "1.9371671991480299"
      ]
     },
     "execution_count": 10,
     "metadata": {},
     "output_type": "execute_result"
    }
   ],
   "source": [
    "#оценим лямбду для распределения Пуассона (как выборочное среднее)\n",
    "l = np.mean(data)\n",
    "l"
   ]
  },
  {
   "cell_type": "markdown",
   "metadata": {},
   "source": [
    "#### Критерий согласия Пирсона"
   ]
  },
  {
   "cell_type": "code",
   "execution_count": 11,
   "metadata": {
    "collapsed": false
   },
   "outputs": [
    {
     "data": {
      "text/plain": [
       "[379, 262, 684, 353, 128, 35, 16, 8, 10, 1, 1, 1]"
      ]
     },
     "execution_count": 11,
     "metadata": {},
     "output_type": "execute_result"
    }
   ],
   "source": [
    "# наблюдаемые частоты\n",
    "observed_frequences = np.bincount(data)\n",
    "list(observed_frequences)"
   ]
  },
  {
   "cell_type": "code",
   "execution_count": 12,
   "metadata": {
    "collapsed": false
   },
   "outputs": [
    {
     "data": {
      "text/plain": [
       "[270.6416065637888,\n",
       " 524.27804296009776,\n",
       " 507.80711402791167,\n",
       " 327.90242826296458,\n",
       " 158.80045713800124,\n",
       " 61.524607355489749,\n",
       " 19.863908551586047,\n",
       " 5.4971017275726499,\n",
       " 1.3311006446292126,\n",
       " 0.28650716750450117,\n",
       " 0.055501228721053016,\n",
       " 0.009774105435530582]"
      ]
     },
     "execution_count": 12,
     "metadata": {},
     "output_type": "execute_result"
    }
   ],
   "source": [
    "# Ожидаемые частоты (если бы у данных было распределение Пуассона)\n",
    "expected_frequences = [len(data)*stats.poisson.pmf(x, l) for x in range(min(data), max(data) + 1)]\n",
    "expected_frequences"
   ]
  },
  {
   "cell_type": "code",
   "execution_count": 13,
   "metadata": {
    "collapsed": false
   },
   "outputs": [
    {
     "data": {
      "image/png": "[encoded data removed]",
      "text/plain": [
       "<matplotlib.figure.Figure at 0xa05b940>"
      ]
     },
     "metadata": {},
     "output_type": "display_data"
    }
   ],
   "source": [
    "pylab.bar(range(len(expected_frequences)), expected_frequences, color = 'b', label = 'poisson_distr')\n",
    "pylab.legend();"
   ]
  },
  {
   "cell_type": "markdown",
   "metadata": {},
   "source": [
    "Статистика критерия хи-квадрат: $$\\chi^2=\\sum_{i=1}^K \\frac{\\left(n_i- np_i\\right)^2}{np_i}$$\n",
    "При справедливости нулевой гипотезы имеет распределение хи-квадрат с числом степеней свободы $K-1-m$, где $m$ - число параметров распределения, оцененных по выборке."
   ]
  },
  {
   "cell_type": "code",
   "execution_count": 14,
   "metadata": {
    "collapsed": false
   },
   "outputs": [
    {
     "data": {
      "text/plain": [
       "Power_divergenceResult(statistic=431.57522052849163, pvalue=1.7726131802335119e-86)"
      ]
     },
     "execution_count": 14,
     "metadata": {},
     "output_type": "execute_result"
    }
   ],
   "source": [
    "#ddof = 1 ,те одну единицу мы использовали при оценке лябмды\n",
    "stats.chisquare(observed_frequences, expected_frequences, ddof = 1)"
   ]
  },
  {
   "cell_type": "markdown",
   "metadata": {},
   "source": [
    "Таким образом,мы уверенно отвергаем нулевую гипотезу о том, что данные принадлежат распределению Пуассона\n",
    "### Проверка гипотез и построение доверительных интервалов\n",
    "$H_0:\\theta=\\theta_0$<br>\n",
    "$H_1:\\theta\\not=\\theta_0$<br>\n",
    "Интервал $\\Rightarrow$ гипотеза <br>\n",
    "$H_0$ отвергается на уровне значимости $\\alpha$,если $100(1-\\alpha)$% интервал для $\\theta$ не содержит  $\\theta_0$<br>\n",
    "**Достигаемый уровень значимости**<br>\n",
    "p-наибольшее $\\alpha$, при котором $100(1-\\alpha)$% доверительный интервал содержит $\\theta_0$\n",
    "То есть, перебирая разные значения $\\alpha$ можно численно найти достигаемый уровень значимости.<br>\n",
    "Пара интервалов $\\not\\Rightarrow$Гипотеза\n",
    "$H_0:\\theta=\\theta_0$<br>\n",
    "$H_1:\\theta\\not=\\theta_0$<br>\n",
    "Если доверительные интервалы для $\\theta_1$ и $\\theta_2$ пересекаются, это еще не значит, что $H_0$ нельзя отвергнуть!\n",
    "Нужно строить доверительный интервал для разности(для проверки, по сути, гипотезы $H_0:\\theta -\\theta_0=0$)\n",
    "<br>Если выборки связанные, строим доверительные интервалы через таблицу сопряженности."
   ]
  }
 ],
 "metadata": {
  "anaconda-cloud": {},
  "kernelspec": {
   "display_name": "Python [default]",
   "language": "python",
   "name": "python3"
  },
  "language_info": {
   "codemirror_mode": {
    "name": "ipython",
    "version": 3
   },
   "file_extension": ".py",
   "mimetype": "text/x-python",
   "name": "python",
   "nbconvert_exporter": "python",
   "pygments_lexer": "ipython3",
   "version": "3.5.2"
  }
 },
 "nbformat": 4,
 "nbformat_minor": 2
}
